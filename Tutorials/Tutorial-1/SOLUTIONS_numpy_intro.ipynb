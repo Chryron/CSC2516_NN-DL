{
 "cells": [
  {
   "cell_type": "markdown",
   "metadata": {
    "id": "B6BqFFkpB46Z"
   },
   "source": [
    "# NumPy Superpowers: Broadcasting, Views, and Ufuncs\n",
    "\n",
    "Before diving into neural networks, let's get familiar with NumPy, a foundational package for numerical operations in Python. This notebook will guide you through the intricacies of broadcasting, views, and universal functions (ufuncs) in NumPy.\n",
    "\n",
    "## Table of Contents\n",
    "\n",
    "1. Introduction to Broadcasting\n",
    "2. Dive into Views\n",
    "3. Universal Functions (Ufuncs)\n",
    "4. Challenges and Puzzles\n"
   ]
  },
  {
   "cell_type": "code",
   "execution_count": 2,
   "metadata": {
    "id": "oyy0F7KyByQs"
   },
   "outputs": [],
   "source": [
    "import numpy as np"
   ]
  },
  {
   "cell_type": "markdown",
   "metadata": {
    "id": "s-jLWax1EiLA"
   },
   "source": [
    "## 1. Introduction to Broadcasting\n",
    "\n",
    "Broadcasting allows NumPy to work with arrays of different shapes when performing arithmetic operations.\n",
    "\n",
    "### 1.1 Basic Broadcasting\n",
    "\n",
    "Broadcasting happens when you add a scalar to a matrix."
   ]
  },
  {
   "cell_type": "code",
   "execution_count": 3,
   "metadata": {
    "colab": {
     "base_uri": "https://localhost:8080/"
    },
    "id": "cJBTaG1sZJ2R",
    "outputId": "17ae3da8-3633-4f75-d296-10af46f0742d"
   },
   "outputs": [
    {
     "name": "stdout",
     "output_type": "stream",
     "text": [
      "[[ 2  3  4]\n",
      " [ 5  6  7]\n",
      " [ 8  9 10]]\n"
     ]
    }
   ],
   "source": [
    "matrix = np.array([[1, 2, 3], [4, 5, 6], [7, 8, 9]])\n",
    "result = matrix + 1\n",
    "print(result)"
   ]
  },
  {
   "cell_type": "markdown",
   "metadata": {
    "id": "Z96MBd7JZKF4"
   },
   "source": [
    "\n",
    "Here, the scalar 1 is broadcasted to the shape of the matrix, and then addition is performed element-wise.\n",
    "\n",
    "**Exercise**: Given a 1D array `a` of shape `(3,)` and a 2D array `b` of shape `(3,3)`, add them together. What do you observe? Where does broadcasting play a role?\n"
   ]
  },
  {
   "cell_type": "code",
   "execution_count": 4,
   "metadata": {
    "colab": {
     "base_uri": "https://localhost:8080/"
    },
    "id": "tB4R6gTwTzVx",
    "outputId": "9294c733-fd6e-4f66-c33d-09964e9083fe"
   },
   "outputs": [
    {
     "name": "stdout",
     "output_type": "stream",
     "text": [
      "(2, 3)\n",
      "(4, 3)\n"
     ]
    }
   ],
   "source": [
    "a = np.array([[1, 2, 3], [4, 5, 6]])\n",
    "b = np.array([[1, 2, 3], [4, 5, 6], [7, 8, 9], [4, 5, 6]])\n",
    "\n",
    "print(a.shape)\n",
    "print(b.shape)"
   ]
  },
  {
   "cell_type": "code",
   "execution_count": 5,
   "metadata": {
    "colab": {
     "base_uri": "https://localhost:8080/"
    },
    "id": "VQeD27q3T1Bj",
    "outputId": "74429c65-0c1d-4b25-b2ec-3c80bf6c262d"
   },
   "outputs": [
    {
     "ename": "ValueError",
     "evalue": "operands could not be broadcast together with shapes (2,3) (4,3) ",
     "output_type": "error",
     "traceback": [
      "\u001b[0;31m---------------------------------------------------------------------------\u001b[0m",
      "\u001b[0;31mValueError\u001b[0m                                Traceback (most recent call last)",
      "Cell \u001b[0;32mIn[5], line 1\u001b[0m\n\u001b[0;32m----> 1\u001b[0m \u001b[43ma\u001b[49m\u001b[43m \u001b[49m\u001b[38;5;241;43m+\u001b[39;49m\u001b[43m \u001b[49m\u001b[43mb\u001b[49m\n",
      "\u001b[0;31mValueError\u001b[0m: operands could not be broadcast together with shapes (2,3) (4,3) "
     ]
    }
   ],
   "source": [
    "a + b"
   ]
  },
  {
   "cell_type": "markdown",
   "metadata": {
    "id": "pVuUmCcOUa82"
   },
   "source": [
    "**Answer**: The 1D array `a` is broadcasted across the rows of `b` to match its shape, and then element-wise addition is performed."
   ]
  },
  {
   "cell_type": "markdown",
   "metadata": {
    "id": "PvH5GsLIEqZ8"
   },
   "source": [
    "### 1.2 Broadcasting Rules\n",
    "\n",
    "**Question**: Can you multiply a 2D array of shape (2, 3) with another 2D array of shape (2, 2)? Why or why not?"
   ]
  },
  {
   "cell_type": "markdown",
   "metadata": {
    "id": "o4ISH4RCUpcT"
   },
   "source": [
    "**Answer**: No, you can't. The dimensions are not compatible according to the broadcasting rules.\n",
    "\n",
    "For broadcasting to work, the dimensions of the arrays should be compatible. Dimensions are compatible when:\n",
    "\n",
    "\n",
    "1.   They are equal, or\n",
    "2.   One of them is 1."
   ]
  },
  {
   "cell_type": "markdown",
   "metadata": {
    "id": "G2KhhxciE5zF"
   },
   "source": [
    "# 2. Dive into Views\n",
    "\n",
    "In NumPy, data is not always copied when creating new arrays or when reshaping. This is crucial for memory efficiency. A view is simply another way of accessing the data of the original array.\n",
    "\n",
    "### 2.1 Basic Views\n",
    "\n",
    "**Exercise**: Create a 2D array and obtain a view of its second row. Modify an element in the view. What happens to the original array?"
   ]
  },
  {
   "cell_type": "code",
   "execution_count": 8,
   "metadata": {
    "colab": {
     "base_uri": "https://localhost:8080/"
    },
    "id": "wJlecU5iVQUd",
    "outputId": "6dd1123b-3072-4cc7-a3ff-3df426fc70d1"
   },
   "outputs": [
    {
     "name": "stdout",
     "output_type": "stream",
     "text": [
      "[[ 1  2  3]\n",
      " [40  5  6]\n",
      " [ 7  8  9]]\n"
     ]
    }
   ],
   "source": [
    "arr = np.array([[1, 2, 3], [4, 5, 6], [7, 8, 9]])\n",
    "view = arr[1]\n",
    "# view\n",
    "view[0] = 40\n",
    "print(arr)"
   ]
  },
  {
   "cell_type": "markdown",
   "metadata": {
    "id": "7Ni-7SKCFGUI"
   },
   "source": [
    "**Answer**: Modifying the view also modifies the original array. The value at arr[1, 0] changes to 40. (When you slice an array, you're creating a view, not a copy. This means that if you modify the view, the original array is modified as well.)"
   ]
  },
  {
   "cell_type": "markdown",
   "metadata": {
    "id": "h5kXL5xnFeF-"
   },
   "source": [
    "###2.2 Reshaping and Views\n",
    "\n",
    "**Exercise**: Reshape a 1D array into a 2D array. Is the result a view or a copy? How can you confirm this?"
   ]
  },
  {
   "cell_type": "code",
   "execution_count": 9,
   "metadata": {
    "colab": {
     "base_uri": "https://localhost:8080/"
    },
    "id": "BHHnoZgCFlVT",
    "outputId": "90f826c0-dff6-47d6-bb03-5a63772d3528"
   },
   "outputs": [
    {
     "name": "stdout",
     "output_type": "stream",
     "text": [
      "[10  2  3  4]\n"
     ]
    }
   ],
   "source": [
    "arr_1d = np.array([1, 2, 3, 4])\n",
    "arr_2d = arr_1d.reshape(2, 2)\n",
    "arr_2d[0, 0] = 10\n",
    "print(arr_1d)"
   ]
  },
  {
   "cell_type": "markdown",
   "metadata": {
    "id": "52L2rG4bVqJk"
   },
   "source": [
    "**Answer**:  The reshaped array arr_2d is a view of arr_1d. Modifying arr_2d also modifies arr_1d. (Reshaping an array often returns a view, not a copy. This means changes in the reshaped array might reflect in the original array.)"
   ]
  },
  {
   "cell_type": "markdown",
   "metadata": {
    "id": "oKwDsVPJFyZh"
   },
   "source": [
    "# 3. Universal Functions (Ufuncs)\n",
    "\n",
    "Ufuncs are functions that operate element-wise on one or more arrays. Most likely you use them all the time, even if you don't know what they are. They are a cornerstone of NumPy, allowing for efficient operations. A ufunc is a “vectorized” wrapper for a function that takes a fixed number of specific inputs and produces a fixed number of specific outputs\n",
    "\n",
    "\n",
    "## A list of common Ufuncs:\n",
    "\n",
    "*Mathematical Operations:*\n",
    "\n",
    "    np.add(x1, x2): Add arguments element-wise.\n",
    "    np.subtract(x1, x2): Subtract arguments element-wise.\n",
    "    np.multiply(x1, x2): Multiply arguments element-wise.\n",
    "    np.divide(x1, x2): Returns a true division of the inputs, element-wise.\n",
    "    np.floor_divide(x1, x2): Return the largest integer smaller or equal to the division of the inputs.\n",
    "    np.power(x1, x2): First array elements raised to powers from the second array, element-wise.\n",
    "    np.mod(x1, x2): Return the element-wise remainder of division.\n",
    "    np.square(x): Return the element-wise square of the input.\n",
    "    np.absolute(x) or np.abs(x): Calculate the absolute value element-wise.\n",
    "    np.sqrt(x): Return the non-negative square-root of an array, element-wise.\n",
    "\n",
    "*Trigonometric Functions:*\n",
    "\n",
    "    np.sin(x): Trigonometric sine, element-wise.\n",
    "    np.cos(x): Cosine element-wise.\n",
    "    np.tan(x): Compute tangent element-wise.\n",
    "    np.arcsin(x): Inverse sine, element-wise.\n",
    "    np.arccos(x): Trigonometric inverse cosine, element-wise.\n",
    "    np.arctan(x): Trigonometric inverse tangent, element-wise.\n",
    "\n",
    "*Hyperbolic Functions*:\n",
    "    np.sinh(x): Hyperbolic sine, element-wise.\n",
    "    np.cosh(x): Hyperbolic cosine, element-wise.\n",
    "    np.tanh(x): Compute hyperbolic tangent element-wise.\n",
    "\n",
    "*Comparison Functions*:\n",
    "\n",
    "    np.greater(x1, x2): Return the truth value of (x1 > x2) element-wise.\n",
    "    np.less(x1, x2): Return the truth value of (x1 < x2) element-wise.\n",
    "    np.equal(x1, x2): Return (x1 == x2) element-wise.\n",
    "    np.not_equal(x1, x2): Return (x1 != x2) element-wise.\n",
    "\n",
    "*Exponential and Logarithmic Functions*:\n",
    "\n",
    "    np.exp(x): Calculate the exponential of all elements in the input array.\n",
    "    np.log(x): Natural logarithm, element-wise.\n",
    "    np.log2(x): Base-2 logarithm of x.\n",
    "    np.log10(x): Return the base 10 logarithm of the input array, element-wise.\n",
    "\n",
    "*Rounding*:\n",
    "\n",
    "    np.around(a, decimals=0): Evenly round to the given number of decimals.\n",
    "    np.floor(x): Return the floor of the input, element-wise.\n",
    "    np.ceil(x): Return the ceiling of the input, element-wise.\n",
    "\n",
    "*Miscellaneous*:\n",
    "\n",
    "    np.sign(x): Returns an element-wise indication of the sign of a number.\n",
    "\n",
    "###3.1 Basic Ufuncs\n",
    "\n",
    "**Exercise**: Use a ufunc to compute the square of each element in an array.\n"
   ]
  },
  {
   "cell_type": "code",
   "execution_count": null,
   "metadata": {
    "id": "K88UauZKSHSh"
   },
   "outputs": [],
   "source": [
    "arr = np.array([1, 2, 3, 4])\n",
    "squared = np.square(arr)\n",
    "print(squared)"
   ]
  },
  {
   "cell_type": "markdown",
   "metadata": {
    "id": "G3NVD7bpF6hU"
   },
   "source": [
    "### 3.2 Ufunc Broadcasting\n",
    "\n",
    "Ufuncs also support broadcasting. This means you can combine arrays of different shapes in element-wise operations.\n",
    "\n",
    "**Exercise**: Given two arrays of shapes (3, 3) and (3,), use a ufunc to subtract the second array from the first along the second axis.\n"
   ]
  },
  {
   "cell_type": "code",
   "execution_count": null,
   "metadata": {
    "colab": {
     "base_uri": "https://localhost:8080/"
    },
    "id": "AC7XUBkoGHEJ",
    "outputId": "943134c6-9e37-4d1b-fb19-7e6b46f6002d"
   },
   "outputs": [
    {
     "name": "stdout",
     "output_type": "stream",
     "text": [
      "[[0 0 0]\n",
      " [3 3 3]\n",
      " [6 6 6]]\n"
     ]
    }
   ],
   "source": [
    "arr1 = np.array([[1, 2, 3], [4, 5, 6], [7, 8, 9]])\n",
    "arr2 = np.array([1, 2, 3])\n",
    "\n",
    "result = arr1 - arr2\n",
    "print(result)"
   ]
  },
  {
   "cell_type": "markdown",
   "metadata": {
    "id": "oh6k65ohGKK0"
   },
   "source": [
    "###3.4 Advanced Ufuncs\n",
    "\n",
    "Ufuncs have methods that allow for more advanced operations, like reducing an array along a particular axis.\n",
    "\n",
    "**Exercise**: Use the reduce method of a ufunc to compute the product of all elements in an array."
   ]
  },
  {
   "cell_type": "code",
   "execution_count": null,
   "metadata": {
    "colab": {
     "base_uri": "https://localhost:8080/"
    },
    "id": "HC0CdE-tGLy_",
    "outputId": "b8ad8207-632b-4518-d2b3-6f64e211d611"
   },
   "outputs": [
    {
     "name": "stdout",
     "output_type": "stream",
     "text": [
      "24\n"
     ]
    }
   ],
   "source": [
    "arr = np.array([1, 2, 3, 4])\n",
    "product = np.multiply.reduce(arr)\n",
    "print(product)"
   ]
  }
 ],
 "metadata": {
  "colab": {
   "provenance": []
  },
  "kernelspec": {
   "display_name": "Python 3 (ipykernel)",
   "language": "python",
   "name": "python3"
  },
  "language_info": {
   "codemirror_mode": {
    "name": "ipython",
    "version": 3
   },
   "file_extension": ".py",
   "mimetype": "text/x-python",
   "name": "python",
   "nbconvert_exporter": "python",
   "pygments_lexer": "ipython3",
   "version": "3.11.3"
  }
 },
 "nbformat": 4,
 "nbformat_minor": 4
}
