{
 "cells": [
  {
   "cell_type": "markdown",
   "metadata": {
    "id": "B6BqFFkpB46Z"
   },
   "source": [
    "# NumPy Superpowers: Broadcasting, Views, and Ufuncs\n",
    "\n",
    "Before diving into neural networks, let's get familiar with NumPy, a foundational package for numerical operations in Python. This notebook will guide you through the intricacies of broadcasting, views, and universal functions (ufuncs) in NumPy.\n",
    "\n",
    "## Handy links:\n",
    "[Broadcasting](https://numpy.org/doc/stable/user/basics.broadcasting.html#broadcasting)\n",
    "\n",
    "[Copies and Views](https://numpy.org/doc/stable/user/basics.copies.html)\n",
    "\n",
    "[Ufuncs](https://numpy.org/doc/stable/reference/ufuncs.html)\n",
    "\n",
    "\n",
    "## Table of Contents\n",
    "\n",
    "1. Introduction to Broadcasting\n",
    "2. Dive into Views\n",
    "3. Universal Functions (Ufuncs)\n",
    "4. Challenges and Puzzles\n"
   ]
  },
  {
   "cell_type": "code",
   "execution_count": null,
   "metadata": {
    "id": "oyy0F7KyByQs"
   },
   "outputs": [],
   "source": [
    "import numpy as np"
   ]
  },
  {
   "cell_type": "markdown",
   "metadata": {
    "id": "s-jLWax1EiLA"
   },
   "source": [
    "## 1. Introduction to Broadcasting\n",
    "\n",
    "Broadcasting allows NumPy to work with arrays of different shapes when performing arithmetic operations.\n",
    "\n",
    "### 1.1 Basic Broadcasting\n",
    "\n",
    "Broadcasting happens when you add a scalar to a matrix."
   ]
  },
  {
   "cell_type": "code",
   "execution_count": null,
   "metadata": {
    "id": "cJBTaG1sZJ2R"
   },
   "outputs": [],
   "source": [
    "matrix = np.array([[1, 2, 3], [4, 5, 6], [7, 8, 9]])\n",
    "result = matrix + 1\n",
    "print(result)"
   ]
  },
  {
   "cell_type": "markdown",
   "metadata": {
    "id": "Z96MBd7JZKF4"
   },
   "source": [
    "\n",
    "Here, the scalar 1 is broadcasted to the shape of the matrix, and then addition is performed element-wise.\n",
    "\n",
    "**Exercise**: Given a 1D array `a` of shape `(3,)` and a 2D array `b` of shape `(3,3)`, add them together. What do you observe? Where does broadcasting play a role?\n"
   ]
  },
  {
   "cell_type": "code",
   "execution_count": null,
   "metadata": {
    "id": "tB4R6gTwTzVx"
   },
   "outputs": [],
   "source": [
    "a = np.array([1, 2, 3])\n",
    "b = np.array([[1, 2, 3], [4, 5, 6], [7, 8, 9]])\n",
    "\n",
    "print(a.shape)\n",
    "print(b.shape)"
   ]
  },
  {
   "cell_type": "code",
   "execution_count": null,
   "metadata": {
    "id": "V-MCqgOBanOk"
   },
   "outputs": [],
   "source": [
    "#Your code here"
   ]
  },
  {
   "cell_type": "markdown",
   "metadata": {
    "id": "pVuUmCcOUa82"
   },
   "source": [
    "**Answer**:"
   ]
  },
  {
   "cell_type": "markdown",
   "metadata": {
    "id": "PvH5GsLIEqZ8"
   },
   "source": [
    "### 1.2 Broadcasting Rules\n",
    "\n",
    "**Question**: Can you multiply a 2D array of shape (2, 3) with another 2D array of shape (2, 2)? Why or why not?"
   ]
  },
  {
   "cell_type": "markdown",
   "metadata": {
    "id": "o4ISH4RCUpcT"
   },
   "source": [
    "**Answer**:"
   ]
  },
  {
   "cell_type": "markdown",
   "metadata": {
    "id": "G2KhhxciE5zF"
   },
   "source": [
    "# 2. Dive into Views\n",
    "\n",
    "In NumPy, data is not always copied when creating new arrays or when reshaping. This is crucial for memory efficiency. A view is simply another way of accessing the data of the original array.\n",
    "\n",
    "### 2.1 Basic Views\n",
    "\n",
    "**Exercise**: Create a 2D array and obtain a view of its second row. Modify an element in the view. What happens to the original array?"
   ]
  },
  {
   "cell_type": "code",
   "execution_count": null,
   "metadata": {
    "id": "wJlecU5iVQUd"
   },
   "outputs": [],
   "source": [
    "#Your code here"
   ]
  },
  {
   "cell_type": "markdown",
   "metadata": {
    "id": "7Ni-7SKCFGUI"
   },
   "source": [
    "**Answer**:"
   ]
  },
  {
   "cell_type": "markdown",
   "metadata": {
    "id": "h5kXL5xnFeF-"
   },
   "source": [
    "###2.2 Reshaping and Views\n",
    "\n",
    "**Exercise**: Reshape a 1D array into a 2D array. Is the result a view or a copy? How can you confirm this?"
   ]
  },
  {
   "cell_type": "code",
   "execution_count": null,
   "metadata": {
    "id": "BHHnoZgCFlVT"
   },
   "outputs": [],
   "source": [
    "#Your code here"
   ]
  },
  {
   "cell_type": "markdown",
   "metadata": {
    "id": "52L2rG4bVqJk"
   },
   "source": [
    "**Answer**:  "
   ]
  },
  {
   "cell_type": "markdown",
   "metadata": {
    "id": "oKwDsVPJFyZh"
   },
   "source": [
    "# 3. Universal Functions (Ufuncs)\n",
    "\n",
    "Ufuncs are functions that operate element-wise on one or more arrays. Most likely you use them all the time, even if you don't know what they are. They are a cornerstone of NumPy, allowing for efficient operations. A ufunc is a “vectorized” wrapper for a function that takes a fixed number of specific inputs and produces a fixed number of specific outputs\n",
    "\n",
    "\n",
    "## A list of common Ufuncs:\n",
    "\n",
    "*Mathematical Operations:*\n",
    "\n",
    "    np.add(x1, x2): Add arguments element-wise.\n",
    "    np.subtract(x1, x2): Subtract arguments element-wise.\n",
    "    np.multiply(x1, x2): Multiply arguments element-wise.\n",
    "    np.divide(x1, x2): Returns a true division of the inputs, element-wise.\n",
    "    np.floor_divide(x1, x2): Return the largest integer smaller or equal to the division of the inputs.\n",
    "    np.power(x1, x2): First array elements raised to powers from the second array, element-wise.\n",
    "    np.mod(x1, x2): Return the element-wise remainder of division.\n",
    "    np.square(x): Return the element-wise square of the input.\n",
    "    np.absolute(x) or np.abs(x): Calculate the absolute value element-wise.\n",
    "    np.sqrt(x): Return the non-negative square-root of an array, element-wise.\n",
    "\n",
    "*Trigonometric Functions:*\n",
    "\n",
    "    np.sin(x): Trigonometric sine, element-wise.\n",
    "    np.cos(x): Cosine element-wise.\n",
    "    np.tan(x): Compute tangent element-wise.\n",
    "    np.arcsin(x): Inverse sine, element-wise.\n",
    "    np.arccos(x): Trigonometric inverse cosine, element-wise.\n",
    "    np.arctan(x): Trigonometric inverse tangent, element-wise.\n",
    "\n",
    "*Hyperbolic Functions*:\n",
    "    np.sinh(x): Hyperbolic sine, element-wise.\n",
    "    np.cosh(x): Hyperbolic cosine, element-wise.\n",
    "    np.tanh(x): Compute hyperbolic tangent element-wise.\n",
    "\n",
    "*Comparison Functions*:\n",
    "\n",
    "    np.greater(x1, x2): Return the truth value of (x1 > x2) element-wise.\n",
    "    np.less(x1, x2): Return the truth value of (x1 < x2) element-wise.\n",
    "    np.equal(x1, x2): Return (x1 == x2) element-wise.\n",
    "    np.not_equal(x1, x2): Return (x1 != x2) element-wise.\n",
    "\n",
    "*Exponential and Logarithmic Functions*:\n",
    "\n",
    "    np.exp(x): Calculate the exponential of all elements in the input array.\n",
    "    np.log(x): Natural logarithm, element-wise.\n",
    "    np.log2(x): Base-2 logarithm of x.\n",
    "    np.log10(x): Return the base 10 logarithm of the input array, element-wise.\n",
    "\n",
    "*Rounding*:\n",
    "\n",
    "    np.around(a, decimals=0): Evenly round to the given number of decimals.\n",
    "    np.floor(x): Return the floor of the input, element-wise.\n",
    "    np.ceil(x): Return the ceiling of the input, element-wise.\n",
    "\n",
    "*Miscellaneous*:\n",
    "\n",
    "    np.sign(x): Returns an element-wise indication of the sign of a number.\n",
    "\n",
    "###3.1 Basic Ufuncs\n",
    "\n",
    "**Exercise**: Use a ufunc to compute the square of each element in an array.\n"
   ]
  },
  {
   "cell_type": "code",
   "execution_count": null,
   "metadata": {
    "id": "K88UauZKSHSh"
   },
   "outputs": [],
   "source": [
    "#Your code here"
   ]
  },
  {
   "cell_type": "markdown",
   "metadata": {
    "id": "G3NVD7bpF6hU"
   },
   "source": [
    "### 3.2 Ufunc Broadcasting\n",
    "\n",
    "Ufuncs also support broadcasting. This means you can combine arrays of different shapes in element-wise operations.\n",
    "\n",
    "**Exercise**: Given two arrays of shapes (3, 3) and (3,), use a ufunc to subtract the second array from the first along the second axis.\n"
   ]
  },
  {
   "cell_type": "code",
   "execution_count": null,
   "metadata": {
    "id": "AC7XUBkoGHEJ"
   },
   "outputs": [],
   "source": [
    "#Your code here"
   ]
  },
  {
   "cell_type": "markdown",
   "metadata": {
    "id": "oh6k65ohGKK0"
   },
   "source": [
    "###3.4 Advanced Ufuncs\n",
    "\n",
    "Ufuncs have methods that allow for more advanced operations, like reducing an array along a particular axis.\n",
    "\n",
    "**Exercise**: Use the reduce method of a ufunc to compute the product of all elements in an array."
   ]
  },
  {
   "cell_type": "code",
   "execution_count": null,
   "metadata": {
    "id": "HC0CdE-tGLy_"
   },
   "outputs": [],
   "source": [
    "#Your code here"
   ]
  }
 ],
 "metadata": {
  "colab": {
   "provenance": []
  },
  "kernelspec": {
   "display_name": "Python 3 (ipykernel)",
   "language": "python",
   "name": "python3"
  },
  "language_info": {
   "codemirror_mode": {
    "name": "ipython",
    "version": 3
   },
   "file_extension": ".py",
   "mimetype": "text/x-python",
   "name": "python",
   "nbconvert_exporter": "python",
   "pygments_lexer": "ipython3",
   "version": "3.11.3"
  }
 },
 "nbformat": 4,
 "nbformat_minor": 4
}
