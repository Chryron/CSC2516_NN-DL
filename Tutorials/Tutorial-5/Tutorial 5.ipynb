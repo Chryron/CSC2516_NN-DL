{
 "cells": [
  {
   "cell_type": "markdown",
   "metadata": {
    "id": "T1cOtLH2E3ll"
   },
   "source": [
    "# CSC2516 Tutorial 5: Autograd & PyTorch"
   ]
  },
  {
   "cell_type": "markdown",
   "metadata": {
    "id": "6x2gZAiSE3lo"
   },
   "source": [
    "## Tutorial overview\n",
    "\n",
    "- Part 1: Interactive notebooks\n",
    "\n",
    "- Part 2: Autograd and PyTorch\n",
    "\n",
    "- Part 3: PyTorch models (with increasing levels of complexity and abstraction)"
   ]
  },
  {
   "cell_type": "markdown",
   "metadata": {
    "id": "h0V9uW9mE3lp"
   },
   "source": [
    "##  Part 1: Interactive notebooks\n",
    "\n",
    "### Overview\n",
    "\n",
    "- Keep documentation, code, and outputs in the same file.\n",
    "\n",
    "- Many different implementations (e.g. Jupyter, Google Colab, Zeppelin, etc.).\n",
    "\n",
    "- Many different languages (e.g. Python, C++ (xeus), Scala, etc.).\n",
    "\n",
    "- Execute your code block-by-block: easy to prototype and debug.\n",
    "\n",
    "- Widely used in data science projects.\n",
    "\n",
    "### Google Colab\n",
    "\n",
    "- Hosted interactive notebooks.\n",
    "\n",
    "- Pros:\n",
    "\n",
    "  - Easy to use and share.\n",
    "  \n",
    "  - Can get a free GPU or TPU (make sure to select a runtime with a GPU).\n",
    "\n",
    "- You can complete all the programming assignments on Colab.\n",
    "\n",
    "### Jupyter notebooks / lab\n",
    "\n",
    "- Run on your own server (GPU/CPU).\n",
    "\n",
    "- Pros:\n",
    "\n",
    "  - Local.\n",
    "  \n",
    "  - Customizable interface (e.g., Shortcuts, Plugins, Templates).\n",
    "\n",
    "  - Easy to call your own library.\n"
   ]
  },
  {
   "cell_type": "markdown",
   "metadata": {
    "id": "oW6E9VvcmYpd"
   },
   "source": [
    "## Part 2.1: Automatic differentiation\n",
    "\n",
    "- In class, we have seen how the backpropagation algorithm could be used to\n",
    "compute gradients for basically any neural net architecture, as long as all the individual pieces of the computation are differentiable.\n",
    "\n",
    "- However, implementing backprop manually is like writing assembly language:\n",
    "you need to apply chain rule to each node in your computation graph.\n",
    "\n",
    "- You may notice that the entire procedure is mechanical. Can we write a program to build the computation graph and apply the backprop updates? Yes, it is exactly the autodiff engine does.\n",
    "\n"
   ]
  },
  {
   "cell_type": "markdown",
   "metadata": {
    "id": "G4hx7YavysiW"
   },
   "source": [
    "### Confusing concepts\n",
    "\n",
    "- **Backpropagation**: the mathematical algorithm we use to compute the gradient.\n",
    "\n",
    "- **Automatic differentiation** (AutoDiff): any software that implements backpropagation.\n",
    "  - Examples: **Autograd**, TensorFlow, PyTorch, Jax, etc."
   ]
  },
  {
   "cell_type": "markdown",
   "metadata": {
    "id": "by7nKutvyhY7"
   },
   "source": [
    "### Approaches for Computing Derivatives\n",
    "\n",
    "- To understand why we really need AutoDiff, we may want to contrast it with several different approaches for computing derivatives.\n",
    "\n",
    "- **Symbolic differentiation:** manipulate the mathematical expressions to get derivatives.\n",
    "    - Takes a math expression and returns a math expression: $f(x) = x^2 \\rightarrow \\frac{df(x)}{dx} = 2x$.\n",
    "    - Used in Mathematica, Maple, SymPy, etc.\n",
    "\n",
    "- **Numeric differentiation:** Approximating derivatives by finite differences:\n",
    "$$\n",
    "\\frac{\\partial}{\\partial x_i} f(x_1, \\dots, x_N) = \\lim_{h \\to 0} \\frac{f(x_1, \\dots, x_i + h, \\dots, x_N) - f(x_1, \\dots, x_i - h, \\dots, x_N)}{2h}\n",
    "$$\n",
    "\n",
    "- **Automatic differentiation:** Write a program that efficiently computes the derivatives.\n",
    "    - Reverse Mode AD: A method to get exact derivatives efficiently, by storing information as you go forward that you can reuse as you go backwards\n",
    "    - This is efficient for graphs with large fan-in, like most loss functions in ML. In machine learning, we have functions that have large fan-in, e.g. a neural net can have millions of parameters, that all squeeze down to one scalar that tells you how well it predicts something."
   ]
  },
  {
   "cell_type": "markdown",
   "metadata": {
    "id": "llvmUF-pyhce"
   },
   "source": [
    "### General idea for Implementation\n",
    "* Create a \"tape\" data structure that tracks the operations performed in computing a function.\n",
    "* Overload primitives to:\n",
    "    - Add themselves to the tape when called.\n",
    "    - Compute gradients with respect to their local inputs.\n",
    "* _Forward pass_ computes the function, and adds operations to the tape.\n",
    "* _Backward pass_ accumulates the local gradients using the chain rule."
   ]
  },
  {
   "cell_type": "markdown",
   "metadata": {
    "id": "0JxunitHmYpf"
   },
   "source": [
    "### Autograd\n",
    "\n",
    "* [Autograd](https://github.com/HIPS/autograd) is a Python package for automatic differentiation.\n",
    "* To install Autograd:\n",
    "                pip install autograd\n",
    "* There are a lot of great [examples](https://github.com/HIPS/autograd/tree/master/examples) provided with the source code.\n",
    "\n",
    "### What can Autograd do?\n",
    "\n",
    "From the Autograd Github repository:\n",
    "\n",
    "* Autograd can automatically differentiate native Python and Numpy code.\n",
    "* It can handle a large subset of Python's features, including loops, conditional statements (if/else), recursion and closures.\n",
    "* It can also compute higher-order derivatives.\n",
    "* It uses reverse-mode differentiation (a.k.a. backpropagation) so it can efficiently take gradients of scalar-valued functions with respect to array-valued arguments.\n",
    "* It constructs a computation graph _implicitly_, by tracking the sequence of operations that have been performed during the execution of a program.\n",
    "\n",
    "### Learn more about Automatic differentiation:\n",
    "\n",
    "- Ryan Adams' talk: https://www.youtube.com/watch?v=sq2gPzlrM0g\n",
    "- Backpropagation notes from Stanford's CS231n: http://cs231n.github.io/optimization-2/\n",
    "- Autograd Github Repository (contains a tutorial and examples): https://github.com/HIPS/autograd"
   ]
  },
  {
   "cell_type": "markdown",
   "metadata": {
    "id": "1kDjpkTqmYph"
   },
   "source": [
    "### Autograd basic usage"
   ]
  },
  {
   "cell_type": "code",
   "execution_count": 1,
   "metadata": {
    "id": "0F3euyjuE3ls"
   },
   "outputs": [],
   "source": [
    "import autograd.numpy as jnp  # Import thinly-wrapped numpy\n",
    "from autograd import grad  # Basicallly the only autograd function you need"
   ]
  },
  {
   "cell_type": "code",
   "execution_count": null,
   "metadata": {
    "colab": {
     "base_uri": "https://localhost:8080/"
    },
    "id": "szDksM6wmYpn",
    "outputId": "537a43f3-bb72-45b5-8bb1-1a2297ecb2dc"
   },
   "outputs": [
    {
     "name": "stdout",
     "output_type": "stream",
     "text": [
      "0.39322386648296376\n",
      "0.39322386636453377\n"
     ]
    }
   ],
   "source": [
    "# Define a function like normal, using Python and (autograd's) NumPy\n",
    "def tanh(x):\n",
    "    y = jnp.exp(-x)\n",
    "    return (1.0 - y) / (1.0 + y)\n",
    "\n",
    "\n",
    "# Create a *function* that computes the gradient of tanh\n",
    "grad_tanh = grad(tanh)\n",
    "\n",
    "# Evaluate the gradient at x = 1.0\n",
    "print(grad_tanh(1.0))\n",
    "\n",
    "# Compare to numeric gradient computed using finite differences\n",
    "print((tanh(1.0001) - tanh(0.9999)) / 0.0002)"
   ]
  },
  {
   "cell_type": "markdown",
   "metadata": {
    "id": "SDGKdlknJMuK"
   },
   "source": [
    "## Part 2.2: PyTorch\n",
    "\n",
    "- Makes it possible to work with arrays and tensors efficiently in Python (wraps NumPy for CPU tensors).\n",
    "\n",
    "- Adds GPU support.\n",
    "\n",
    "- Adds automatic differentiation.\n",
    "\n",
    "- Provides a high-level abstractions for working with neural networks."
   ]
  },
  {
   "cell_type": "code",
   "execution_count": 2,
   "metadata": {
    "id": "xHx0nbsrE3lv"
   },
   "outputs": [],
   "source": [
    "import matplotlib.pyplot as plt\n",
    "import numpy as np\n",
    "import numpy.random as npr\n",
    "import torch\n",
    "\n",
    "%matplotlib inline"
   ]
  },
  {
   "cell_type": "markdown",
   "metadata": {
    "id": "iYkp3o3zE3lw"
   },
   "source": [
    "### PyTorch — API\n",
    "\n",
    "See: https://pytorch.org/docs/stable/index.html (especially `torch`, `torch.nn`, `torch.nn.functional`, and `torch.Tensor`)."
   ]
  },
  {
   "cell_type": "code",
   "execution_count": 3,
   "metadata": {
    "colab": {
     "base_uri": "https://localhost:8080/"
    },
    "id": "8JrqCxaFE3lw",
    "outputId": "a44fe216-815f-438f-839d-3b61a8b4e637"
   },
   "outputs": [
    {
     "data": {
      "text/plain": [
       "tensor([1., 2., 3., 4.])"
      ]
     },
     "execution_count": 3,
     "metadata": {},
     "output_type": "execute_result"
    }
   ],
   "source": [
    "x = torch.tensor([1.0, 2.0, 3.0, 4.0])\n",
    "\n",
    "x"
   ]
  },
  {
   "cell_type": "code",
   "execution_count": 6,
   "metadata": {
    "colab": {
     "base_uri": "https://localhost:8080/"
    },
    "id": "ReldVOHaE3lw",
    "outputId": "12f75742-c000-4b15-f946-0dea4e2269da"
   },
   "outputs": [
    {
     "data": {
      "text/plain": [
       "tensor([100., 200., 300.,   4.])"
      ]
     },
     "execution_count": 6,
     "metadata": {},
     "output_type": "execute_result"
    }
   ],
   "source": [
    "x_np = np.array([1.0, 2.0, 3.0, 4.0], dtype=np.float32)\n",
    "x = torch.from_numpy(x_np)\n",
    "\n",
    "# Torch abstracts over NumPy but uses a NumPy-compatible representation under the hood\n",
    "x_np[0] = 100.0\n",
    "x[1] = 200.0\n",
    "x.data.numpy()[2] = 300\n",
    "\n",
    "x"
   ]
  },
  {
   "cell_type": "code",
   "execution_count": 7,
   "metadata": {
    "colab": {
     "base_uri": "https://localhost:8080/"
    },
    "id": "A8ntNuxDEwNN",
    "outputId": "8666bb5f-9ed1-46f5-dc7f-e07818ea545a"
   },
   "outputs": [
    {
     "data": {
      "text/plain": [
       "torch.Size([4])"
      ]
     },
     "execution_count": 7,
     "metadata": {},
     "output_type": "execute_result"
    }
   ],
   "source": [
    "x.shape"
   ]
  },
  {
   "cell_type": "code",
   "execution_count": 8,
   "metadata": {
    "colab": {
     "base_uri": "https://localhost:8080/"
    },
    "id": "WTTvOw9sENQ1",
    "outputId": "0f7d7fb5-0d2d-4fda-f1a8-65d9b10985fe"
   },
   "outputs": [
    {
     "data": {
      "text/plain": [
       "tensor([[100.],\n",
       "        [200.],\n",
       "        [300.],\n",
       "        [  4.]])"
      ]
     },
     "execution_count": 8,
     "metadata": {},
     "output_type": "execute_result"
    }
   ],
   "source": [
    "x.reshape(-1, 1)"
   ]
  },
  {
   "cell_type": "code",
   "execution_count": 9,
   "metadata": {
    "colab": {
     "base_uri": "https://localhost:8080/"
    },
    "id": "qzDfcieJE1pU",
    "outputId": "5dabb77f-06d8-4e24-d63b-e35c93bd499e"
   },
   "outputs": [
    {
     "data": {
      "text/plain": [
       "torch.Size([4, 1])"
      ]
     },
     "execution_count": 9,
     "metadata": {},
     "output_type": "execute_result"
    }
   ],
   "source": [
    "x.reshape(-1, 1).shape"
   ]
  },
  {
   "cell_type": "code",
   "execution_count": 10,
   "metadata": {
    "colab": {
     "base_uri": "https://localhost:8080/"
    },
    "id": "Xr-RVmWlE3lx",
    "outputId": "4e5acfd4-d70e-477f-b14f-a3eedb5e3c7e"
   },
   "outputs": [
    {
     "data": {
      "text/plain": [
       "tensor([[200., 300., 400., 104.],\n",
       "        [300., 400., 500., 204.],\n",
       "        [400., 500., 600., 304.],\n",
       "        [104., 204., 304.,   8.]])"
      ]
     },
     "execution_count": 10,
     "metadata": {},
     "output_type": "execute_result"
    }
   ],
   "source": [
    "# Broadcasting\n",
    "x.reshape(-1, 1) + x"
   ]
  },
  {
   "cell_type": "code",
   "execution_count": 11,
   "metadata": {
    "colab": {
     "base_uri": "https://localhost:8080/"
    },
    "id": "67T-w0KkE3lx",
    "outputId": "d1217ce0-6efb-4c61-e20c-81aa3dd10364"
   },
   "outputs": [
    {
     "name": "stderr",
     "output_type": "stream",
     "text": [
      "<ipython-input-11-2efe49c6cd98>:2: UserWarning: The use of `x.T` on tensors of dimension other than 2 to reverse their shape is deprecated and it will throw an error in a future release. Consider `x.mT` to transpose batches of matrices or `x.permute(*torch.arange(x.ndim - 1, -1, -1))` to reverse the dimensions of a tensor. (Triggered internally at ../aten/src/ATen/native/TensorShape.cpp:3571.)\n",
      "  x @ x.T\n"
     ]
    },
    {
     "data": {
      "text/plain": [
       "tensor(140016.)"
      ]
     },
     "execution_count": 11,
     "metadata": {},
     "output_type": "execute_result"
    }
   ],
   "source": [
    "# Dot product\n",
    "x @ x.T"
   ]
  },
  {
   "cell_type": "markdown",
   "metadata": {
    "id": "Co-aXekIE3ly"
   },
   "source": [
    "### PyTorch — GPU support\n",
    "\n",
    "We can move PyTorch tensors to the GPU, which allows us to perform some computations much faster."
   ]
  },
  {
   "cell_type": "code",
   "execution_count": 12,
   "metadata": {
    "colab": {
     "base_uri": "https://localhost:8080/"
    },
    "id": "Fo0IHCd0E3ly",
    "outputId": "aad02799-0a9b-4f73-817b-a2f92dfa844e"
   },
   "outputs": [
    {
     "data": {
      "text/plain": [
       "device(type='cuda')"
      ]
     },
     "execution_count": 12,
     "metadata": {},
     "output_type": "execute_result"
    }
   ],
   "source": [
    "device = torch.device(\"cuda\" if torch.cuda.is_available() else \"cpu\")\n",
    "\n",
    "device"
   ]
  },
  {
   "cell_type": "code",
   "execution_count": 13,
   "metadata": {
    "colab": {
     "base_uri": "https://localhost:8080/"
    },
    "id": "KS4O12elE3ly",
    "outputId": "07b08518-0037-4804-9692-01e112daace5"
   },
   "outputs": [
    {
     "data": {
      "text/plain": [
       "tensor([100., 200., 300.,   4.], device='cuda:0')"
      ]
     },
     "execution_count": 13,
     "metadata": {},
     "output_type": "execute_result"
    }
   ],
   "source": [
    "x = x.to(device=device)\n",
    "\n",
    "x"
   ]
  },
  {
   "cell_type": "code",
   "execution_count": 14,
   "metadata": {
    "colab": {
     "base_uri": "https://localhost:8080/"
    },
    "id": "sa2rZfoNE3lz",
    "outputId": "fc0e7489-1a36-4b91-f3df-e271393d94db"
   },
   "outputs": [
    {
     "data": {
      "text/plain": [
       "tensor(140016., device='cuda:0')"
      ]
     },
     "execution_count": 14,
     "metadata": {},
     "output_type": "execute_result"
    }
   ],
   "source": [
    "x @ x.T"
   ]
  },
  {
   "cell_type": "markdown",
   "metadata": {
    "id": "lxSzk_bWE3lz"
   },
   "source": [
    "### PyTorch — Automatic differentiation\n",
    "\n",
    "PyTorch allows us to dynamically define computational graphs that can be evaluated efficently on GPUs."
   ]
  },
  {
   "cell_type": "code",
   "execution_count": 15,
   "metadata": {
    "colab": {
     "base_uri": "https://localhost:8080/"
    },
    "id": "5v19hIquE3lz",
    "outputId": "332794ef-3de5-4a53-8c4c-505f7b4466d9"
   },
   "outputs": [
    {
     "data": {
      "text/plain": [
       "tensor([1.])"
      ]
     },
     "execution_count": 15,
     "metadata": {},
     "output_type": "execute_result"
    }
   ],
   "source": [
    "data = torch.tensor([1.0])\n",
    "data"
   ]
  },
  {
   "cell_type": "code",
   "execution_count": 16,
   "metadata": {
    "colab": {
     "base_uri": "https://localhost:8080/"
    },
    "id": "UgI2RgjlE3lz",
    "outputId": "dc53afa2-e15c-48c1-8979-97edc3289b56"
   },
   "outputs": [
    {
     "data": {
      "text/plain": [
       "tensor([1.], requires_grad=True)"
      ]
     },
     "execution_count": 16,
     "metadata": {},
     "output_type": "execute_result"
    }
   ],
   "source": [
    "param = torch.tensor([1.0], requires_grad=True)\n",
    "param"
   ]
  },
  {
   "cell_type": "code",
   "execution_count": 17,
   "metadata": {
    "colab": {
     "base_uri": "https://localhost:8080/"
    },
    "id": "3jOTeqZAE3l0",
    "outputId": "c9a75e35-46df-4c83-d0be-44adee6db053"
   },
   "outputs": [
    {
     "data": {
      "text/plain": [
       "tensor([2.], grad_fn=<AddBackward0>)"
      ]
     },
     "execution_count": 17,
     "metadata": {},
     "output_type": "execute_result"
    }
   ],
   "source": [
    "(data + param)"
   ]
  },
  {
   "cell_type": "markdown",
   "metadata": {
    "id": "MGHorbqkE3l0"
   },
   "source": [
    "For a more concrete example, let's work with the function:\n",
    "\n",
    "$$f(x) = x^2 + 2x + 6$$"
   ]
  },
  {
   "cell_type": "code",
   "execution_count": 18,
   "metadata": {
    "colab": {
     "base_uri": "https://localhost:8080/"
    },
    "id": "lKC3Lzwqs07E",
    "outputId": "e36cb4dd-7b11-4b31-ad2f-02869f096162"
   },
   "outputs": [
    {
     "name": "stdout",
     "output_type": "stream",
     "text": [
      "tensor([30.], dtype=torch.float64, grad_fn=<AddBackward0>)\n"
     ]
    }
   ],
   "source": [
    "def f(x):\n",
    "    return x ** 2 + 2 * x + 6\n",
    "\n",
    "\n",
    "np_x = np.array([4.0])\n",
    "x = torch.from_numpy(np_x).requires_grad_(True)\n",
    "y = f(x)\n",
    "print(y)"
   ]
  },
  {
   "cell_type": "markdown",
   "metadata": {
    "id": "IUt6ydt6EeIo"
   },
   "source": [
    "Now let's compute the derivative $$\\frac{d}{dx}\\bigg\\rvert_{x=4} f(x) = 2(4) + 2 = 10$$"
   ]
  },
  {
   "cell_type": "code",
   "execution_count": 19,
   "metadata": {
    "colab": {
     "base_uri": "https://localhost:8080/"
    },
    "id": "kWQJmBlytIOV",
    "outputId": "6112625c-8afa-4709-b069-cf4812659679"
   },
   "outputs": [
    {
     "data": {
      "text/plain": [
       "tensor([10.], dtype=torch.float64)"
      ]
     },
     "execution_count": 19,
     "metadata": {},
     "output_type": "execute_result"
    }
   ],
   "source": [
    "y.backward()\n",
    "x.grad"
   ]
  },
  {
   "cell_type": "code",
   "execution_count": 20,
   "metadata": {
    "id": "nCdN3mtXtX-N"
   },
   "outputs": [],
   "source": [
    "np_x = np.array([5.0])\n",
    "x = torch.from_numpy(np_x).requires_grad_(True)\n",
    "y = f(x)"
   ]
  },
  {
   "cell_type": "markdown",
   "metadata": {
    "id": "rwTsdEnHEtLo"
   },
   "source": [
    "$$\\frac{d}{dx}\\bigg\\rvert_{x=4} f(x) = 2(5) + 2 = 12$$"
   ]
  },
  {
   "cell_type": "code",
   "execution_count": 21,
   "metadata": {
    "colab": {
     "base_uri": "https://localhost:8080/"
    },
    "id": "2TWXc5gmtdrA",
    "outputId": "365295a4-0924-49fb-e4c6-e35503a14df3"
   },
   "outputs": [
    {
     "data": {
      "text/plain": [
       "tensor([12.], dtype=torch.float64)"
      ]
     },
     "execution_count": 21,
     "metadata": {},
     "output_type": "execute_result"
    }
   ],
   "source": [
    "y.backward()\n",
    "x.grad"
   ]
  },
  {
   "cell_type": "markdown",
   "metadata": {
    "id": "elZP4TVoHRlo"
   },
   "source": [
    "We can also visualize the computation graph of $$y=f(x)$$"
   ]
  },
  {
   "cell_type": "code",
   "execution_count": 22,
   "metadata": {
    "colab": {
     "base_uri": "https://localhost:8080/",
     "height": 830
    },
    "id": "CYAxRQjxGV4A",
    "outputId": "d30a361a-5c2d-4632-c86b-835cbcb9d28e"
   },
   "outputs": [
    {
     "name": "stdout",
     "output_type": "stream",
     "text": [
      "Collecting torchviz\n",
      "  Downloading torchviz-0.0.2.tar.gz (4.9 kB)\n",
      "  Preparing metadata (setup.py) ... \u001b[?25l\u001b[?25hdone\n",
      "Requirement already satisfied: torch in /usr/local/lib/python3.10/dist-packages (from torchviz) (2.0.1+cu118)\n",
      "Requirement already satisfied: graphviz in /usr/local/lib/python3.10/dist-packages (from torchviz) (0.20.1)\n",
      "Requirement already satisfied: filelock in /usr/local/lib/python3.10/dist-packages (from torch->torchviz) (3.12.4)\n",
      "Requirement already satisfied: typing-extensions in /usr/local/lib/python3.10/dist-packages (from torch->torchviz) (4.5.0)\n",
      "Requirement already satisfied: sympy in /usr/local/lib/python3.10/dist-packages (from torch->torchviz) (1.12)\n",
      "Requirement already satisfied: networkx in /usr/local/lib/python3.10/dist-packages (from torch->torchviz) (3.1)\n",
      "Requirement already satisfied: jinja2 in /usr/local/lib/python3.10/dist-packages (from torch->torchviz) (3.1.2)\n",
      "Requirement already satisfied: triton==2.0.0 in /usr/local/lib/python3.10/dist-packages (from torch->torchviz) (2.0.0)\n",
      "Requirement already satisfied: cmake in /usr/local/lib/python3.10/dist-packages (from triton==2.0.0->torch->torchviz) (3.27.6)\n",
      "Requirement already satisfied: lit in /usr/local/lib/python3.10/dist-packages (from triton==2.0.0->torch->torchviz) (17.0.2)\n",
      "Requirement already satisfied: MarkupSafe>=2.0 in /usr/local/lib/python3.10/dist-packages (from jinja2->torch->torchviz) (2.1.3)\n",
      "Requirement already satisfied: mpmath>=0.19 in /usr/local/lib/python3.10/dist-packages (from sympy->torch->torchviz) (1.3.0)\n",
      "Building wheels for collected packages: torchviz\n",
      "  Building wheel for torchviz (setup.py) ... \u001b[?25l\u001b[?25hdone\n",
      "  Created wheel for torchviz: filename=torchviz-0.0.2-py3-none-any.whl size=4130 sha256=1868058bb63976dabe2915b0b1d82b109319e501a88183bb8bf6046098923fa7\n",
      "  Stored in directory: /root/.cache/pip/wheels/4c/97/88/a02973217949e0db0c9f4346d154085f4725f99c4f15a87094\n",
      "Successfully built torchviz\n",
      "Installing collected packages: torchviz\n",
      "Successfully installed torchviz-0.0.2\n"
     ]
    },
    {
     "data": {
      "image/svg+xml": [
       "<?xml version=\"1.0\" encoding=\"UTF-8\" standalone=\"no\"?>\n",
       "<!DOCTYPE svg PUBLIC \"-//W3C//DTD SVG 1.1//EN\"\n",
       " \"http://www.w3.org/Graphics/SVG/1.1/DTD/svg11.dtd\">\n",
       "<!-- Generated by graphviz version 2.43.0 (0)\n",
       " -->\n",
       "<!-- Title: %3 Pages: 1 -->\n",
       "<svg width=\"204pt\" height=\"326pt\"\n",
       " viewBox=\"0.00 0.00 204.00 326.00\" xmlns=\"http://www.w3.org/2000/svg\" xmlns:xlink=\"http://www.w3.org/1999/xlink\">\n",
       "<g id=\"graph0\" class=\"graph\" transform=\"scale(1 1) rotate(0) translate(4 322)\">\n",
       "<title>%3</title>\n",
       "<polygon fill=\"white\" stroke=\"transparent\" points=\"-4,4 -4,-322 200,-322 200,4 -4,4\"/>\n",
       "<!-- 139444391025600 -->\n",
       "<g id=\"node1\" class=\"node\">\n",
       "<title>139444391025600</title>\n",
       "<polygon fill=\"#caff70\" stroke=\"black\" points=\"124.5,-31 70.5,-31 70.5,0 124.5,0 124.5,-31\"/>\n",
       "<text text-anchor=\"middle\" x=\"97.5\" y=\"-7\" font-family=\"monospace\" font-size=\"10.00\"> (1)</text>\n",
       "</g>\n",
       "<!-- 139444391067600 -->\n",
       "<g id=\"node2\" class=\"node\">\n",
       "<title>139444391067600</title>\n",
       "<polygon fill=\"lightgrey\" stroke=\"black\" points=\"142,-86 53,-86 53,-67 142,-67 142,-86\"/>\n",
       "<text text-anchor=\"middle\" x=\"97.5\" y=\"-74\" font-family=\"monospace\" font-size=\"10.00\">AddBackward0</text>\n",
       "</g>\n",
       "<!-- 139444391067600&#45;&gt;139444391025600 -->\n",
       "<g id=\"edge7\" class=\"edge\">\n",
       "<title>139444391067600&#45;&gt;139444391025600</title>\n",
       "<path fill=\"none\" stroke=\"black\" d=\"M97.5,-66.79C97.5,-60.07 97.5,-50.4 97.5,-41.34\"/>\n",
       "<polygon fill=\"black\" stroke=\"black\" points=\"101,-41.19 97.5,-31.19 94,-41.19 101,-41.19\"/>\n",
       "</g>\n",
       "<!-- 139444391067120 -->\n",
       "<g id=\"node3\" class=\"node\">\n",
       "<title>139444391067120</title>\n",
       "<polygon fill=\"lightgrey\" stroke=\"black\" points=\"142,-141 53,-141 53,-122 142,-122 142,-141\"/>\n",
       "<text text-anchor=\"middle\" x=\"97.5\" y=\"-129\" font-family=\"monospace\" font-size=\"10.00\">AddBackward0</text>\n",
       "</g>\n",
       "<!-- 139444391067120&#45;&gt;139444391067600 -->\n",
       "<g id=\"edge1\" class=\"edge\">\n",
       "<title>139444391067120&#45;&gt;139444391067600</title>\n",
       "<path fill=\"none\" stroke=\"black\" d=\"M97.5,-121.75C97.5,-114.8 97.5,-104.85 97.5,-96.13\"/>\n",
       "<polygon fill=\"black\" stroke=\"black\" points=\"101,-96.09 97.5,-86.09 94,-96.09 101,-96.09\"/>\n",
       "</g>\n",
       "<!-- 139444391067264 -->\n",
       "<g id=\"node4\" class=\"node\">\n",
       "<title>139444391067264</title>\n",
       "<polygon fill=\"lightgrey\" stroke=\"black\" points=\"89,-196 0,-196 0,-177 89,-177 89,-196\"/>\n",
       "<text text-anchor=\"middle\" x=\"44.5\" y=\"-184\" font-family=\"monospace\" font-size=\"10.00\">PowBackward0</text>\n",
       "</g>\n",
       "<!-- 139444391067264&#45;&gt;139444391067120 -->\n",
       "<g id=\"edge2\" class=\"edge\">\n",
       "<title>139444391067264&#45;&gt;139444391067120</title>\n",
       "<path fill=\"none\" stroke=\"black\" d=\"M53.25,-176.75C60.97,-169.03 72.4,-157.6 81.72,-148.28\"/>\n",
       "<polygon fill=\"black\" stroke=\"black\" points=\"84.31,-150.64 88.91,-141.09 79.36,-145.69 84.31,-150.64\"/>\n",
       "</g>\n",
       "<!-- 139444391067024 -->\n",
       "<g id=\"node5\" class=\"node\">\n",
       "<title>139444391067024</title>\n",
       "<polygon fill=\"lightgrey\" stroke=\"black\" points=\"148,-251 47,-251 47,-232 148,-232 148,-251\"/>\n",
       "<text text-anchor=\"middle\" x=\"97.5\" y=\"-239\" font-family=\"monospace\" font-size=\"10.00\">AccumulateGrad</text>\n",
       "</g>\n",
       "<!-- 139444391067024&#45;&gt;139444391067264 -->\n",
       "<g id=\"edge3\" class=\"edge\">\n",
       "<title>139444391067024&#45;&gt;139444391067264</title>\n",
       "<path fill=\"none\" stroke=\"black\" d=\"M88.75,-231.75C81.03,-224.03 69.6,-212.6 60.28,-203.28\"/>\n",
       "<polygon fill=\"black\" stroke=\"black\" points=\"62.64,-200.69 53.09,-196.09 57.69,-205.64 62.64,-200.69\"/>\n",
       "</g>\n",
       "<!-- 139444391067072 -->\n",
       "<g id=\"node7\" class=\"node\">\n",
       "<title>139444391067072</title>\n",
       "<polygon fill=\"lightgrey\" stroke=\"black\" points=\"196,-196 107,-196 107,-177 196,-177 196,-196\"/>\n",
       "<text text-anchor=\"middle\" x=\"151.5\" y=\"-184\" font-family=\"monospace\" font-size=\"10.00\">MulBackward0</text>\n",
       "</g>\n",
       "<!-- 139444391067024&#45;&gt;139444391067072 -->\n",
       "<g id=\"edge6\" class=\"edge\">\n",
       "<title>139444391067024&#45;&gt;139444391067072</title>\n",
       "<path fill=\"none\" stroke=\"black\" d=\"M106.42,-231.75C114.28,-224.03 125.93,-212.6 135.42,-203.28\"/>\n",
       "<polygon fill=\"black\" stroke=\"black\" points=\"138.06,-205.59 142.75,-196.09 133.16,-200.6 138.06,-205.59\"/>\n",
       "</g>\n",
       "<!-- 139444391024880 -->\n",
       "<g id=\"node6\" class=\"node\">\n",
       "<title>139444391024880</title>\n",
       "<polygon fill=\"lightblue\" stroke=\"black\" points=\"124.5,-318 70.5,-318 70.5,-287 124.5,-287 124.5,-318\"/>\n",
       "<text text-anchor=\"middle\" x=\"97.5\" y=\"-294\" font-family=\"monospace\" font-size=\"10.00\"> (1)</text>\n",
       "</g>\n",
       "<!-- 139444391024880&#45;&gt;139444391067024 -->\n",
       "<g id=\"edge4\" class=\"edge\">\n",
       "<title>139444391024880&#45;&gt;139444391067024</title>\n",
       "<path fill=\"none\" stroke=\"black\" d=\"M97.5,-286.92C97.5,-279.22 97.5,-269.69 97.5,-261.43\"/>\n",
       "<polygon fill=\"black\" stroke=\"black\" points=\"101,-261.25 97.5,-251.25 94,-261.25 101,-261.25\"/>\n",
       "</g>\n",
       "<!-- 139444391067072&#45;&gt;139444391067120 -->\n",
       "<g id=\"edge5\" class=\"edge\">\n",
       "<title>139444391067072&#45;&gt;139444391067120</title>\n",
       "<path fill=\"none\" stroke=\"black\" d=\"M142.58,-176.75C134.72,-169.03 123.07,-157.6 113.58,-148.28\"/>\n",
       "<polygon fill=\"black\" stroke=\"black\" points=\"115.84,-145.6 106.25,-141.09 110.94,-150.59 115.84,-145.6\"/>\n",
       "</g>\n",
       "</g>\n",
       "</svg>\n"
      ],
      "text/plain": [
       "<graphviz.graphs.Digraph at 0x7ed2ed653f10>"
      ]
     },
     "execution_count": 22,
     "metadata": {},
     "output_type": "execute_result"
    }
   ],
   "source": [
    "!pip install torchviz\n",
    "from torchviz import make_dot\n",
    "\n",
    "make_dot(y)"
   ]
  },
  {
   "cell_type": "markdown",
   "metadata": {
    "id": "v60TtmvumYps"
   },
   "source": [
    "### PyTorch autodiff vs. manual gradients via staged computation\n",
    "\n",
    "In this example, we will see how a complicated computation can be written as a composition of simpler functions, and how autodiff provides a scalable strategy for computing gradients using the chain rule.\n",
    "\n",
    "Say we want to write a function to compute the gradient of the *sigmoid function*:\n",
    "$$\n",
    "\\sigma(x) = \\frac{1}{1 + e^{-x}}\n",
    "$$\n",
    "We can write $\\sigma(x)$ as a composition of several elementary functions, as $\\sigma(x) = s(c(b(a(x))))$, where:\n",
    "\n",
    "$$\n",
    "a(x) = -x\n",
    "$$\n",
    "\n",
    "$$\n",
    "b(a) = e^a\n",
    "$$\n",
    "\n",
    "$$\n",
    "c(b) = 1 + b\n",
    "$$\n",
    "\n",
    "$$\n",
    "s(c) = \\frac{1}{c}\n",
    "$$\n",
    "\n",
    "Here, we have \"staged\" the computation such that it contains several intermediate variables, each of which are basic expressions that we can easily compute the local gradients.\n",
    "\n",
    "\n",
    "The input to this function is $x$, and the output is represented by node $s$. We wish compute the gradient of $s$ with respect to $x$, $\\frac{\\partial s}{\\partial x}$. In order to make use of our intermediate computations, we can use the chain rule as follows:\n",
    "$$\n",
    "\\frac{\\partial s}{\\partial x} = \\frac{\\partial s}{\\partial c} \\frac{\\partial c}{\\partial b} \\frac{\\partial b}{\\partial a} \\frac{\\partial a}{\\partial x}\n",
    "$$\n",
    "\n",
    "<!--\n",
    "Given a vector-to-scalar function, $\\mathbb{R}^D \\to \\mathbb{R}$, composed of a set of primitive functions\n",
    "$\\mathbb{R}^M \\to \\mathbb{R}^N$ (for various $M$, $N$), the gradient of the composition is given by the product of the gradients of the primitive functions, according to the chain rule. But the chain rule doesn’t prescribe the order in which to multiply the gradients. From the perspective of computational complexity, the order makes all the\n",
    "difference.\n",
    "-->"
   ]
  },
  {
   "cell_type": "code",
   "execution_count": 23,
   "metadata": {
    "colab": {
     "base_uri": "https://localhost:8080/"
    },
    "id": "D5RUMyRsmYpt",
    "outputId": "12be61e5-6273-4ac6-c324-231315b9a6fe"
   },
   "outputs": [
    {
     "name": "stdout",
     "output_type": "stream",
     "text": [
      "autograd: 0.10499356687068939\n",
      "manual: 0.10499357432126999\n",
      "symbolic: 0.10499362647533417\n"
     ]
    }
   ],
   "source": [
    "def sigmoid(x):\n",
    "    \"\"\"Sigmoid function reimplemented for clarity. Use `torch.sigmoid` in real life!\"\"\"\n",
    "    y = 1.0 / (1.0 + torch.exp(-x))\n",
    "    return y\n",
    "\n",
    "\n",
    "def grad_sigmoid_pytorch(x):\n",
    "    x = x.clone().requires_grad_(True)\n",
    "    y = sigmoid(x)\n",
    "    y.backward()\n",
    "    return x.grad\n",
    "\n",
    "\n",
    "def grad_sigmoid_manual(x):\n",
    "    \"\"\"Implements the gradient of the logistic sigmoid function\n",
    "    $\\sigma(x) = 1 / (1 + e^{-x})$ using staged computation\n",
    "    \"\"\"\n",
    "    # Forward pass, keeping track of intermediate values for use in the\n",
    "    # backward pass\n",
    "    a = -x  # -x in denominator\n",
    "    b = np.exp(a)  # e^{-x} in denominator\n",
    "    c = 1 + b  # 1 + e^{-x} in denominator\n",
    "    s = 1.0 / c  # Final result, 1.0 / (1 + e^{-x})\n",
    "\n",
    "    # Backward pass\n",
    "    dsdc = -1.0 / (c ** 2)\n",
    "    dsdb = dsdc * 1\n",
    "    dsda = dsdb * torch.exp(a)\n",
    "    dsdx = dsda * (-1)\n",
    "\n",
    "    return dsdx\n",
    "\n",
    "\n",
    "def grad_sigmoid_symbolic(x):\n",
    "    # Since d sigmoid(x) / dx = sigmoid(x) * (1 - sigmoid(x))\n",
    "    s = sigmoid(x)\n",
    "    dsdx = s * (1 - s)\n",
    "    return dsdx\n",
    "\n",
    "\n",
    "input_x = torch.tensor([2.0])\n",
    "\n",
    "\n",
    "# Compare the results of manual and automatic gradient functions:\n",
    "print(\"autograd:\", grad_sigmoid_pytorch(input_x).item())\n",
    "print(\"manual:\", grad_sigmoid_manual(input_x).item())\n",
    "print(\"symbolic:\", grad_sigmoid_symbolic(input_x).item())"
   ]
  },
  {
   "cell_type": "markdown",
   "metadata": {
    "id": "YTHQYM2ImYq4"
   },
   "source": [
    "### Implementing custom gradients\n",
    "\n",
    "One thing you can do is define custom gradients for your own functions. There are several reasons you might want to do this, including:\n",
    "\n",
    "1. **Speed:** You may know a faster way to compute the gradient for a specific function.\n",
    "2. **Numerical Stability**.\n",
    "3. When your code depends on **external library calls**.\n"
   ]
  },
  {
   "cell_type": "code",
   "execution_count": 24,
   "metadata": {
    "id": "OUC_rGWwE3l2"
   },
   "outputs": [],
   "source": [
    "class MySigmoid(torch.autograd.Function):\n",
    "    \"\"\"\n",
    "    We can implement our own custom autograd Functions by subclassing\n",
    "    torch.autograd.Function and implementing the forward and backward passes\n",
    "    which operate on Tensors.\n",
    "    \"\"\"\n",
    "\n",
    "    @staticmethod\n",
    "    def forward(ctx, input):\n",
    "        \"\"\"\n",
    "        In the forward pass we receive a Tensor containing the input and return\n",
    "        a Tensor containing the output. ctx is a context object that can be used\n",
    "        to stash information for backward computation. You can cache arbitrary\n",
    "        objects for use in the backward pass using the ctx.save_for_backward method.\n",
    "        \"\"\"\n",
    "        ans = 1.0 / (1.0 + torch.exp(-input))\n",
    "        ctx.save_for_backward(input, ans)\n",
    "        return ans\n",
    "\n",
    "    @staticmethod\n",
    "    def backward(ctx, grad_output):\n",
    "        \"\"\"\n",
    "        In the backward pass we receive a Tensor containing the gradient of the loss\n",
    "        with respect to the output, and we need to compute the gradient of the loss\n",
    "        with respect to the input.\n",
    "        \"\"\"\n",
    "        input, ans = ctx.saved_tensors\n",
    "        return grad_output * ans * (1 - ans)"
   ]
  },
  {
   "cell_type": "code",
   "execution_count": 25,
   "metadata": {
    "colab": {
     "base_uri": "https://localhost:8080/"
    },
    "id": "ydX0HQOJE3l2",
    "outputId": "0a46c45d-a2b1-4775-f0a0-3201be57df91"
   },
   "outputs": [
    {
     "data": {
      "text/plain": [
       "0.10499362647533417"
      ]
     },
     "execution_count": 25,
     "metadata": {},
     "output_type": "execute_result"
    }
   ],
   "source": [
    "my_sigmoid = MySigmoid.apply\n",
    "\n",
    "x = input_x.clone().requires_grad_(True)\n",
    "y = my_sigmoid(x)\n",
    "y.backward()\n",
    "x.grad.item()"
   ]
  },
  {
   "cell_type": "markdown",
   "metadata": {
    "id": "I-ePOja_mYrA"
   },
   "source": [
    "## Part 3.1 Basic models\n",
    "\n",
    "The next three sections of the notebook show examples of using pytorch in the context of three problems:\n",
    "\n",
    "1. **1-D linear regression**, where we try to fit a model to a function $y = wx + b$\n",
    "2. **Linear regression using a polynomial feature map**, to fit a function of the form $y = w_0 + w_1 x + w_2 x^2 + \\dots + w_M x^M$\n",
    "3. **Nonlinear regression using a neural network**"
   ]
  },
  {
   "cell_type": "markdown",
   "metadata": {
    "id": "JBs8UkXfmYrC"
   },
   "source": [
    "### Linear Regression"
   ]
  },
  {
   "cell_type": "markdown",
   "metadata": {
    "id": "cLHB3U0BmYrD"
   },
   "source": [
    "#### Review\n",
    "\n",
    "We are given a set of data points $\\{ (x_1, t_1), (x_2, t_2), \\dots, (x_N, t_N) \\}$, where each point $(x_i, t_i)$ consists of an *input value* $x_i$ and a *target value* $t_i$.\n",
    "\n",
    "The **model** we use is:\n",
    "$$\n",
    "y_i = wx_i + b\n",
    "$$\n",
    "\n",
    "We want each predicted value $y_i$ to be close to the ground truth value $t_i$. In linear regression, we use squared error to quantify the disagreement between $y_i$ and $t_i$. The **loss function** for a single example is:\n",
    "$$\n",
    "L(y_i,t_i) = \\frac{1}{2} (y_i - t_i)^2\n",
    "$$\n",
    "\n",
    "The **cost function** is the loss averaged over all the training examples:\n",
    "$$\n",
    "E(w,b) = \\frac{1}{N} \\sum_{i=1}^N L(y_i, t_i) = \\frac{1}{N} \\sum_{i=1}^N \\frac{1}{2} \\left(wx_i + b - t_i \\right)^2\n",
    "$$"
   ]
  },
  {
   "cell_type": "markdown",
   "metadata": {
    "id": "b-BhEYZOmYrJ"
   },
   "source": [
    "#### Data generation\n",
    "\n",
    "We generate a synthetic dataset $\\{ (x_i, t_i) \\}$ by first taking the $x_i$ to be linearly spaced in the range $[0, 10]$ and generating the corresponding value of $t_i$ using the following equation (where $w = 4$ and $b=10$):\n",
    "$$\n",
    "t_i = 4 x_i + 10 + \\epsilon\n",
    "$$\n",
    "\n",
    "Here, $\\epsilon \\sim N(0, 2)$ (that is, $\\epsilon$ is drawn from a Gaussian distribution with mean 0 and variance 2). This introduces some random fluctuation in the data, to mimic real data that has an underlying regularity, but for which individual observations are corrupted by random noise."
   ]
  },
  {
   "cell_type": "code",
   "execution_count": 26,
   "metadata": {
    "colab": {
     "base_uri": "https://localhost:8080/",
     "height": 430
    },
    "id": "mOLDubBYmYrK",
    "outputId": "26866a5e-6809-46f7-dcc6-16ebd2b60a75"
   },
   "outputs": [
    {
     "data": {
      "image/png": "[encoded data removed]",
      "text/plain": [
       "<Figure size 640x480 with 1 Axes>"
      ]
     },
     "metadata": {},
     "output_type": "display_data"
    }
   ],
   "source": [
    "# In our synthetic data, we have w = 4 and b = 10\n",
    "N = 100  # Number of training data points\n",
    "x = np.linspace(0, 10, N)\n",
    "\n",
    "t = 4 * x + 10 + npr.normal(0, 2, x.shape[0])\n",
    "plt.plot(x, t, \"r.\")\n",
    "\n",
    "x = torch.from_numpy(x)\n",
    "t = torch.from_numpy(t)"
   ]
  },
  {
   "cell_type": "code",
   "execution_count": 27,
   "metadata": {
    "colab": {
     "base_uri": "https://localhost:8080/"
    },
    "id": "DWKVaOrimYrO",
    "outputId": "e0c4bd30-770d-44f4-ccbb-3d2dbbbcdf77"
   },
   "outputs": [
    {
     "name": "stdout",
     "output_type": "stream",
     "text": [
      "i: 0     loss: 471.2874\n",
      "i: 100   loss: 7.8396\n",
      "i: 200   loss: 5.4819\n",
      "i: 300   loss: 4.0476\n",
      "i: 400   loss: 3.1751\n",
      "i: 500   loss: 2.6443\n",
      "i: 600   loss: 2.3214\n",
      "i: 700   loss: 2.1249\n",
      "i: 800   loss: 2.0054\n",
      "i: 900   loss: 1.9327\n",
      "{'w': tensor([4.1451], requires_grad=True), 'b': tensor([9.0298], requires_grad=True)}\n"
     ]
    }
   ],
   "source": [
    "# Initialize random parameters\n",
    "params = {\n",
    "    \"w\": torch.randn(1).requires_grad_(True),\n",
    "    \"b\": torch.randn(1).requires_grad_(True),\n",
    "}\n",
    "\n",
    "\n",
    "def cost(params):\n",
    "    y = params[\"w\"] * x + params[\"b\"]\n",
    "    return (1 / N) * torch.sum(0.5 * (y - t) ** 2)\n",
    "\n",
    "\n",
    "# Find the gradient of the cost function using pytorch\n",
    "num_epochs = 1000  # Number of epochs of training\n",
    "alpha = 0.01  # Learning rate\n",
    "\n",
    "for i in range(num_epochs):\n",
    "    # Evaluate the gradient of the current parameters stored in params\n",
    "    loss = cost(params)\n",
    "    loss.backward()\n",
    "\n",
    "    if i % 100 == 0:\n",
    "        print(f\"i: {i:<5d} loss: {loss.item():.4f}\")\n",
    "\n",
    "    # Update parameters w and b\n",
    "    with torch.no_grad():\n",
    "        params[\"w\"].data = params[\"w\"] - alpha * params[\"w\"].grad\n",
    "        params[\"b\"].data = params[\"b\"] - alpha * params[\"b\"].grad\n",
    "        params[\"w\"].grad.zero_()\n",
    "        params[\"b\"].grad.zero_()\n",
    "\n",
    "print(params)"
   ]
  },
  {
   "cell_type": "code",
   "execution_count": 28,
   "metadata": {
    "colab": {
     "base_uri": "https://localhost:8080/",
     "height": 447
    },
    "id": "Q6JKtls8mYrY",
    "outputId": "511fd993-1a08-4f64-a19b-2fb131dfe33a"
   },
   "outputs": [
    {
     "data": {
      "text/plain": [
       "[<matplotlib.lines.Line2D at 0x7ed2e45456c0>]"
      ]
     },
     "execution_count": 28,
     "metadata": {},
     "output_type": "execute_result"
    },
    {
     "data": {
      "image/png": "[encoded data removed]",
      "text/plain": [
       "<Figure size 640x480 with 1 Axes>"
      ]
     },
     "metadata": {},
     "output_type": "display_data"
    }
   ],
   "source": [
    "# Plot the training data again, together with the line defined by y = wx + b\n",
    "# where w and b are our final learned parameters\n",
    "plt.plot(x, t, \"r.\")\n",
    "plt.plot([0, 10], [params[\"b\"].detach().numpy(), params[\"w\"].detach().numpy() * 10 + params[\"b\"].detach().numpy()], \"b-\")"
   ]
  },
  {
   "cell_type": "markdown",
   "metadata": {
    "id": "UMf3GbOhmYrc"
   },
   "source": [
    "### Linear regression with a feature mapping"
   ]
  },
  {
   "cell_type": "markdown",
   "metadata": {
    "id": "I6sur0MDmYrd"
   },
   "source": [
    "In this example, we will fit a polynomial using linear regression with a polynomial feature mapping.\n",
    "The target function is:\n",
    "\n",
    "$$\n",
    "t = x^4 - 10 x^2 + 10 x + \\epsilon\n",
    "$$\n",
    "\n",
    "where $\\epsilon \\sim N(0, 4)$.\n",
    "\n",
    "This is an example of a _generalized linear model_, in which we perform a fixed nonlinear transformation of the inputs $\\mathbf{x} = (x_1, x_2, \\dots, x_D)$, and the model is still linear in the _parameters_. We can define a set of _feature mappings_ (also called feature functions or basis functions) $\\phi$ to implement the fixed transformations.\n",
    "\n",
    "In this case, we have $x \\in \\mathbb{R}$, and we define the feature mapping:\n",
    "$$\n",
    "\\mathbf{\\phi}(x) = \\begin{pmatrix}\\phi_1(x) \\\\ \\phi_2(x) \\\\ \\phi_3(x) \\\\ \\phi_4(x) \\\\ \\phi_5(x) \\end{pmatrix} = \\begin{pmatrix}1\\\\x\\\\x^2\\\\x^3\\\\x^4\\end{pmatrix}\n",
    "$$"
   ]
  },
  {
   "cell_type": "code",
   "execution_count": 29,
   "metadata": {
    "colab": {
     "base_uri": "https://localhost:8080/",
     "height": 430
    },
    "id": "D-XKvKC4mYre",
    "outputId": "6c0c7228-b19a-4f87-f546-eebc227fd4ea"
   },
   "outputs": [
    {
     "data": {
      "image/png": "[encoded data removed]",
      "text/plain": [
       "<Figure size 640x480 with 1 Axes>"
      ]
     },
     "metadata": {},
     "output_type": "display_data"
    }
   ],
   "source": [
    "# Generate synthetic data\n",
    "N = 100  # Number of data points\n",
    "x = np.linspace(-3, 3, N)  # Generate N values linearly-spaced between -3 and 3\n",
    "t = x ** 4 - 10 * x ** 2 + 10 * x + npr.normal(0, 4, x.shape[0])  # Generate corresponding targets\n",
    "plt.plot(x, t, \"r.\")  # Plot data points\n",
    "\n",
    "t = torch.from_numpy(t).view(-1, 1)"
   ]
  },
  {
   "cell_type": "code",
   "execution_count": 30,
   "metadata": {
    "colab": {
     "base_uri": "https://localhost:8080/"
    },
    "id": "oGgROsxlmYrk",
    "outputId": "450471f8-a47b-4df3-fa7c-84aa6eac8f54"
   },
   "outputs": [
    {
     "name": "stdout",
     "output_type": "stream",
     "text": [
      "torch.Size([5, 1])\n",
      "i: 0     loss: 322.6283\n",
      "i: 100   loss: 75.6560\n",
      "i: 200   loss: 59.2990\n",
      "i: 300   loss: 47.4776\n",
      "i: 400   loss: 38.8703\n",
      "i: 500   loss: 32.5467\n",
      "i: 600   loss: 27.8509\n",
      "i: 700   loss: 24.3203\n",
      "i: 800   loss: 21.6281\n",
      "i: 900   loss: 19.5430\n",
      "tensor([[-1.6197],\n",
      "        [ 5.3951],\n",
      "        [-7.2359],\n",
      "        [ 0.7079],\n",
      "        [ 0.6557]], requires_grad=True)\n"
     ]
    }
   ],
   "source": [
    "M = 4  # Degree of polynomial to fit to the data (this is a hyperparameter)\n",
    "\n",
    "feature_matrix = torch.tensor(\n",
    "    [[item ** i for i in range(M + 1)] for item in x], dtype=torch.float32\n",
    ")\n",
    "\n",
    "params = {\n",
    "    \"w\": torch.randn(M + 1, 1).requires_grad_(True),\n",
    "}\n",
    "print(params[\"w\"].shape)\n",
    "\n",
    "\n",
    "def cost(params):\n",
    "    y = torch.mm(feature_matrix, params[\"w\"])\n",
    "    return (1.0 / N) * torch.sum(0.5 * (y - t) ** 2)\n",
    "\n",
    "\n",
    "# Compute the gradient of the cost function using Autograd\n",
    "\n",
    "num_epochs = 1000\n",
    "learning_rate = 0.001\n",
    "\n",
    "# Manually implement gradient descent\n",
    "for i in range(num_epochs):\n",
    "    loss = cost(params)\n",
    "    loss.backward()\n",
    "    if i % 100 == 0:\n",
    "        print(f\"i: {i:<5d} loss: {loss.item():.4f}\")\n",
    "    with torch.no_grad():\n",
    "        params[\"w\"].data = params[\"w\"] - learning_rate * params[\"w\"].grad\n",
    "        params[\"w\"].grad.zero_()\n",
    "\n",
    "\n",
    "# Print the final learned parameters.\n",
    "print(params[\"w\"])\n",
    "w = params[\"w\"].detach().cpu().numpy()"
   ]
  },
  {
   "cell_type": "code",
   "execution_count": 31,
   "metadata": {
    "colab": {
     "base_uri": "https://localhost:8080/",
     "height": 447
    },
    "id": "CY3XajWcmYrp",
    "outputId": "108cf872-9bf4-4335-9cc4-c1e9e2116dd1"
   },
   "outputs": [
    {
     "data": {
      "text/plain": [
       "[<matplotlib.lines.Line2D at 0x7ed2e4464e20>]"
      ]
     },
     "execution_count": 31,
     "metadata": {},
     "output_type": "execute_result"
    },
    {
     "data": {
      "image/png": "[encoded data removed]",
      "text/plain": [
       "<Figure size 640x480 with 1 Axes>"
      ]
     },
     "metadata": {},
     "output_type": "display_data"
    }
   ],
   "source": [
    "# Plot the original training data again, together with the polynomial we fit\n",
    "plt.plot(x, t, \"r.\")\n",
    "plt.plot(x, np.dot(feature_matrix, w), \"b-\")"
   ]
  },
  {
   "cell_type": "markdown",
   "metadata": {
    "id": "OWYEe11YmYrs"
   },
   "source": [
    "### Neural net regression"
   ]
  },
  {
   "cell_type": "markdown",
   "metadata": {
    "id": "C7bnv5LemYru"
   },
   "source": [
    "In this example, we will implement a (nonlinear) regression model using a neural network. To implement and train a neural net using Autograd, you only have to define the forward pass of the network and the loss function you wish to use; you do _not_ need to implement the _backward pass_ of the network. When you take the gradient of the loss function using `grad`, Autograd automatically computes computes the backward pass. It essentially executes the backpropagation algorithm implicitly.\n"
   ]
  },
  {
   "cell_type": "code",
   "execution_count": 32,
   "metadata": {
    "colab": {
     "base_uri": "https://localhost:8080/",
     "height": 430
    },
    "id": "0TuIWDkCmYr5",
    "outputId": "b51841e9-cb51-4da3-b596-6e9073e888be"
   },
   "outputs": [
    {
     "data": {
      "image/png": "[encoded data removed]",
      "text/plain": [
       "<Figure size 640x480 with 1 Axes>"
      ]
     },
     "metadata": {},
     "output_type": "display_data"
    }
   ],
   "source": [
    "# Generate synthetic data\n",
    "x = np.linspace(-5, 5, 1000)\n",
    "t = x ** 3 - 20 * x + 10 + npr.normal(0, 4, x.shape[0])\n",
    "plt.plot(x, t, \"r.\")\n",
    "\n",
    "x = torch.from_numpy(x).float()\n",
    "t = torch.from_numpy(t)"
   ]
  },
  {
   "cell_type": "code",
   "execution_count": 33,
   "metadata": {
    "colab": {
     "base_uri": "https://localhost:8080/",
     "height": 787
    },
    "id": "yphlCjMmmYr9",
    "outputId": "04115365-ee22-44dc-a8b7-40b667462846",
    "scrolled": true
   },
   "outputs": [
    {
     "name": "stdout",
     "output_type": "stream",
     "text": [
      "tensor(326.3282, dtype=torch.float64, grad_fn=<MulBackward0>)\n",
      "i: 0     loss: 326.3282\n",
      "i: 500   loss: 85.2856\n",
      "i: 1000  loss: 69.4805\n",
      "i: 1500  loss: 64.6407\n",
      "i: 2000  loss: 61.6759\n",
      "i: 2500  loss: 59.7812\n",
      "i: 3000  loss: 58.5348\n",
      "i: 3500  loss: 57.7007\n",
      "i: 4000  loss: 57.1309\n",
      "i: 4500  loss: 56.7394\n",
      "i: 5000  loss: 56.4626\n",
      "i: 5500  loss: 56.2693\n",
      "i: 6000  loss: 56.1124\n",
      "i: 6500  loss: 55.9934\n",
      "i: 7000  loss: 55.9121\n",
      "i: 7500  loss: 55.8417\n",
      "i: 8000  loss: 55.7792\n",
      "i: 8500  loss: 55.7328\n",
      "i: 9000  loss: 55.6928\n",
      "i: 9500  loss: 55.6629\n"
     ]
    },
    {
     "data": {
      "image/png": "[encoded data removed]",
      "text/plain": [
       "<Figure size 640x480 with 1 Axes>"
      ]
     },
     "metadata": {},
     "output_type": "display_data"
    }
   ],
   "source": [
    "inputs = x.reshape(x.shape[-1], 1)\n",
    "\n",
    "params = {\n",
    "    \"W1\": torch.randn(1, 4).requires_grad_(True),\n",
    "    \"b1\": torch.randn(4).requires_grad_(True),\n",
    "    \"W2\": torch.randn(4, 4).requires_grad_(True),\n",
    "    \"b2\": torch.randn(4).requires_grad_(True),\n",
    "    \"W3\": torch.randn(4, 1).requires_grad_(True),\n",
    "    \"b3\": torch.randn(1).requires_grad_(True),\n",
    "}\n",
    "\n",
    "\n",
    "# We can define an optimizer which takes care of updating parameters based on their gradient. We can use more complex optimizers like SGD+Momntum or Adam.\n",
    "optimizer = torch.optim.SGD(params.values(), lr=0.0001, weight_decay=0.0001, momentum=0.9)\n",
    "\n",
    "# Pytorch also has implementation of wide range of activation functions such as: Tanh, ReLU, LeakyReLU, ...\n",
    "nonlinearity = torch.nn.ReLU()\n",
    "\n",
    "\n",
    "def predict(params, inputs):\n",
    "    h1 = nonlinearity(torch.mm(inputs, params[\"W1\"]) + params[\"b1\"])\n",
    "    h2 = nonlinearity(torch.mm(h1, params[\"W2\"]) + params[\"b2\"])\n",
    "    output = torch.mm(h2, params[\"W3\"]) + params[\"b3\"]\n",
    "    return output\n",
    "\n",
    "\n",
    "def cost(params):\n",
    "    output = predict(params, inputs)\n",
    "    return (1.0 / inputs.shape[0]) * torch.sum(0.5 * (output.reshape(output.shape[0]) - t) ** 2)\n",
    "\n",
    "\n",
    "print(cost(params))\n",
    "\n",
    "num_epochs = 10000\n",
    "\n",
    "for i in range(num_epochs):\n",
    "    # Evaluate the gradient of the current parameters stored in params\n",
    "    loss = cost(params)\n",
    "    if i % 500 == 0:\n",
    "        print(f\"i: {i:<5d} loss: {loss.item():.4f}\")\n",
    "    optimizer.zero_grad()\n",
    "    loss.backward()\n",
    "    optimizer.step()\n",
    "\n",
    "with torch.no_grad():\n",
    "    final_y = predict(params, inputs)\n",
    "    plt.plot(x, t, \"r.\")\n",
    "    plt.plot(x, final_y, \"b-\")"
   ]
  },
  {
   "cell_type": "markdown",
   "metadata": {
    "id": "mWU6AagIE3l6"
   },
   "source": [
    "## Part 3.2 Neural network models"
   ]
  },
  {
   "cell_type": "markdown",
   "metadata": {
    "id": "lkdDq61Ea38-"
   },
   "source": [
    "### MNIST classification"
   ]
  },
  {
   "cell_type": "markdown",
   "metadata": {
    "id": "hiJiOPA5a-lu"
   },
   "source": [
    "[MNIST](http://yann.lecun.com/exdb/mnist/) is a famous dataset containing hand-written digits. The training set contains 60k and the test set contains 10k images. PyTorch has built-in functions for downloading well-known datasets like MNIST."
   ]
  },
  {
   "cell_type": "code",
   "execution_count": 34,
   "metadata": {
    "colab": {
     "base_uri": "https://localhost:8080/"
    },
    "id": "eeeIOIMha5da",
    "outputId": "cdfd6778-80dc-43b9-baf2-29294a61a1ba"
   },
   "outputs": [
    {
     "name": "stdout",
     "output_type": "stream",
     "text": [
      "Downloading http://yann.lecun.com/exdb/mnist/train-images-idx3-ubyte.gz\n",
      "Downloading http://yann.lecun.com/exdb/mnist/train-images-idx3-ubyte.gz to data/MNIST/raw/train-images-idx3-ubyte.gz\n"
     ]
    },
    {
     "name": "stderr",
     "output_type": "stream",
     "text": [
      "100%|██████████| 9912422/9912422 [00:00<00:00, 268886130.33it/s]"
     ]
    },
    {
     "name": "stdout",
     "output_type": "stream",
     "text": [
      "Extracting data/MNIST/raw/train-images-idx3-ubyte.gz to data/MNIST/raw\n"
     ]
    },
    {
     "name": "stderr",
     "output_type": "stream",
     "text": [
      "\n"
     ]
    },
    {
     "name": "stdout",
     "output_type": "stream",
     "text": [
      "\n",
      "Downloading http://yann.lecun.com/exdb/mnist/train-labels-idx1-ubyte.gz\n",
      "Downloading http://yann.lecun.com/exdb/mnist/train-labels-idx1-ubyte.gz to data/MNIST/raw/train-labels-idx1-ubyte.gz\n"
     ]
    },
    {
     "name": "stderr",
     "output_type": "stream",
     "text": [
      "100%|██████████| 28881/28881 [00:00<00:00, 69939777.03it/s]\n"
     ]
    },
    {
     "name": "stdout",
     "output_type": "stream",
     "text": [
      "Extracting data/MNIST/raw/train-labels-idx1-ubyte.gz to data/MNIST/raw\n",
      "\n",
      "Downloading http://yann.lecun.com/exdb/mnist/t10k-images-idx3-ubyte.gz\n",
      "Downloading http://yann.lecun.com/exdb/mnist/t10k-images-idx3-ubyte.gz to data/MNIST/raw/t10k-images-idx3-ubyte.gz\n"
     ]
    },
    {
     "name": "stderr",
     "output_type": "stream",
     "text": [
      "100%|██████████| 1648877/1648877 [00:00<00:00, 76093296.03it/s]"
     ]
    },
    {
     "name": "stdout",
     "output_type": "stream",
     "text": [
      "Extracting data/MNIST/raw/t10k-images-idx3-ubyte.gz to data/MNIST/raw\n",
      "\n",
      "Downloading http://yann.lecun.com/exdb/mnist/t10k-labels-idx1-ubyte.gz\n",
      "Downloading http://yann.lecun.com/exdb/mnist/t10k-labels-idx1-ubyte.gz to data/MNIST/raw/t10k-labels-idx1-ubyte.gz\n"
     ]
    },
    {
     "name": "stderr",
     "output_type": "stream",
     "text": [
      "\n",
      "100%|██████████| 4542/4542 [00:00<00:00, 22333562.45it/s]\n"
     ]
    },
    {
     "name": "stdout",
     "output_type": "stream",
     "text": [
      "Extracting data/MNIST/raw/t10k-labels-idx1-ubyte.gz to data/MNIST/raw\n",
      "\n",
      "Downloading http://yann.lecun.com/exdb/mnist/train-images-idx3-ubyte.gz\n",
      "Downloading http://yann.lecun.com/exdb/mnist/train-images-idx3-ubyte.gz to ../data/MNIST/raw/train-images-idx3-ubyte.gz\n"
     ]
    },
    {
     "name": "stderr",
     "output_type": "stream",
     "text": [
      "100%|██████████| 9912422/9912422 [00:00<00:00, 239392137.16it/s]\n"
     ]
    },
    {
     "name": "stdout",
     "output_type": "stream",
     "text": [
      "Extracting ../data/MNIST/raw/train-images-idx3-ubyte.gz to ../data/MNIST/raw\n",
      "\n",
      "Downloading http://yann.lecun.com/exdb/mnist/train-labels-idx1-ubyte.gz\n",
      "Downloading http://yann.lecun.com/exdb/mnist/train-labels-idx1-ubyte.gz to ../data/MNIST/raw/train-labels-idx1-ubyte.gz\n"
     ]
    },
    {
     "name": "stderr",
     "output_type": "stream",
     "text": [
      "100%|██████████| 28881/28881 [00:00<00:00, 114929500.78it/s]\n"
     ]
    },
    {
     "name": "stdout",
     "output_type": "stream",
     "text": [
      "Extracting ../data/MNIST/raw/train-labels-idx1-ubyte.gz to ../data/MNIST/raw\n",
      "\n",
      "Downloading http://yann.lecun.com/exdb/mnist/t10k-images-idx3-ubyte.gz\n",
      "Downloading http://yann.lecun.com/exdb/mnist/t10k-images-idx3-ubyte.gz to ../data/MNIST/raw/t10k-images-idx3-ubyte.gz\n"
     ]
    },
    {
     "name": "stderr",
     "output_type": "stream",
     "text": [
      "100%|██████████| 1648877/1648877 [00:00<00:00, 79835286.88it/s]"
     ]
    },
    {
     "name": "stdout",
     "output_type": "stream",
     "text": [
      "Extracting ../data/MNIST/raw/t10k-images-idx3-ubyte.gz to ../data/MNIST/raw\n",
      "\n",
      "Downloading http://yann.lecun.com/exdb/mnist/t10k-labels-idx1-ubyte.gz\n",
      "Downloading http://yann.lecun.com/exdb/mnist/t10k-labels-idx1-ubyte.gz to ../data/MNIST/raw/t10k-labels-idx1-ubyte.gz\n"
     ]
    },
    {
     "name": "stderr",
     "output_type": "stream",
     "text": [
      "\n",
      "100%|██████████| 4542/4542 [00:00<00:00, 23374881.92it/s]"
     ]
    },
    {
     "name": "stdout",
     "output_type": "stream",
     "text": [
      "Extracting ../data/MNIST/raw/t10k-labels-idx1-ubyte.gz to ../data/MNIST/raw\n",
      "\n"
     ]
    },
    {
     "name": "stderr",
     "output_type": "stream",
     "text": [
      "\n"
     ]
    }
   ],
   "source": [
    "from torchvision import datasets, transforms\n",
    "\n",
    "mnist_train = datasets.MNIST(\"data\", train=True, download=True, transform=transforms.ToTensor())\n",
    "\n",
    "mnist_test = datasets.MNIST(\"../data\", train=False, download=True, transform=transforms.ToTensor())"
   ]
  },
  {
   "cell_type": "code",
   "execution_count": 35,
   "metadata": {
    "colab": {
     "base_uri": "https://localhost:8080/"
    },
    "id": "nTdP7vjzb35H",
    "outputId": "86680ad0-7d01-45ec-9201-19bb9d79f6a4"
   },
   "outputs": [
    {
     "name": "stdout",
     "output_type": "stream",
     "text": [
      "Dataset MNIST\n",
      "    Number of datapoints: 60000\n",
      "    Root location: data\n",
      "    Split: Train\n",
      "    StandardTransform\n",
      "Transform: ToTensor()\n",
      "Dataset MNIST\n",
      "    Number of datapoints: 10000\n",
      "    Root location: ../data\n",
      "    Split: Test\n",
      "    StandardTransform\n",
      "Transform: ToTensor()\n"
     ]
    }
   ],
   "source": [
    "print(mnist_train)\n",
    "print(mnist_test)"
   ]
  },
  {
   "cell_type": "code",
   "execution_count": 37,
   "metadata": {
    "colab": {
     "base_uri": "https://localhost:8080/",
     "height": 447
    },
    "id": "1dWTw-Rgbh5O",
    "outputId": "e6ff5be2-1688-4ddf-e161-a97301a52dcc"
   },
   "outputs": [
    {
     "name": "stdout",
     "output_type": "stream",
     "text": [
      "Label:  5\n"
     ]
    },
    {
     "data": {
      "image/png": "[encoded data removed]",
      "text/plain": [
       "<Figure size 640x480 with 1 Axes>"
      ]
     },
     "metadata": {},
     "output_type": "display_data"
    }
   ],
   "source": [
    "i = npr.randint(1, 50000)\n",
    "example = mnist_train[i]\n",
    "print(\"Label: \", example[1])\n",
    "plt.imshow(example[0].reshape((28, 28)), cmap=plt.cm.gray)\n",
    "plt.grid(None)"
   ]
  },
  {
   "cell_type": "markdown",
   "metadata": {
    "id": "F5cYaF7PcB7v"
   },
   "source": [
    "Pytorch's DataLoader is responsible for creating an iterator over the dataset.  "
   ]
  },
  {
   "cell_type": "code",
   "execution_count": 38,
   "metadata": {
    "colab": {
     "base_uri": "https://localhost:8080/",
     "height": 332
    },
    "id": "4WDyu63wcV3Z",
    "outputId": "30609b28-2445-4fde-a9b9-bef6d75e4f9f"
   },
   "outputs": [
    {
     "data": {
      "text/plain": [
       "<matplotlib.image.AxesImage at 0x7ed2b9fab6d0>"
      ]
     },
     "execution_count": 38,
     "metadata": {},
     "output_type": "execute_result"
    },
    {
     "data": {
      "image/png": "[encoded data removed]",
      "text/plain": [
       "<Figure size 800x800 with 1 Axes>"
      ]
     },
     "metadata": {},
     "output_type": "display_data"
    }
   ],
   "source": [
    "import torchvision\n",
    "from torch.utils.data import DataLoader\n",
    "\n",
    "mnist_train = datasets.MNIST(\"data\", train=True, download=True, transform=transforms.ToTensor())\n",
    "\n",
    "mnist_test = datasets.MNIST(\"data\", train=False, download=True, transform=transforms.ToTensor())\n",
    "\n",
    "bs = 32\n",
    "train_dl = DataLoader(mnist_train, batch_size=bs)\n",
    "test_dl = DataLoader(mnist_test, batch_size=100)\n",
    "\n",
    "dataiter = iter(train_dl)\n",
    "images, labels = next(dataiter)\n",
    "viz = torchvision.utils.make_grid(images, nrow=10, padding=2).numpy()\n",
    "fig, ax = plt.subplots(figsize=(8, 8))\n",
    "ax.imshow(np.transpose(viz, (1, 2, 0)))\n",
    "# ax.grid(None)"
   ]
  },
  {
   "cell_type": "markdown",
   "metadata": {
    "id": "779GU7DKdVbn"
   },
   "source": [
    "Using PyTorch's built-in functions, we can easily define any model like multi-layer perceptrons. After training, we just care about the average test accuracy, so let's write a function to compute the accuracy over the test set."
   ]
  },
  {
   "cell_type": "code",
   "execution_count": 39,
   "metadata": {
    "id": "2Led8bErdZrw"
   },
   "outputs": [],
   "source": [
    "def get_test_stat(model, dl, device):\n",
    "    model.eval()\n",
    "    cum_loss, cum_acc = 0.0, 0.0\n",
    "    for i, (xb, yb) in enumerate(dl):\n",
    "        xb = xb.to(device)\n",
    "        yb = yb.to(device)\n",
    "\n",
    "        xb = xb.view(xb.size(0), -1)\n",
    "        y_pred = model(xb)\n",
    "        loss = loss_fn(y_pred, yb)\n",
    "        acc = (torch.max(y_pred.data, 1)[1] == yb).sum()  # accuracy(y_pred, yb)\n",
    "        cum_loss += loss.item() * len(yb)\n",
    "        cum_acc += acc.item() * len(yb)\n",
    "    cum_loss /= 10000\n",
    "    cum_acc /= 10000\n",
    "    model.train()\n",
    "    return cum_loss, cum_acc"
   ]
  },
  {
   "cell_type": "code",
   "execution_count": 40,
   "metadata": {
    "colab": {
     "base_uri": "https://localhost:8080/"
    },
    "id": "ohxuCpR9eLGt",
    "outputId": "2b7aa7ae-5a42-4941-8794-f4054ea5adfe"
   },
   "outputs": [
    {
     "name": "stdout",
     "output_type": "stream",
     "text": [
      "Using cuda\n",
      "0\n",
      "Test loss: 0.41251624405384063  Test acc: 88.95\n",
      "1\n",
      "Test loss: 0.32741306252777574  Test acc: 90.84\n"
     ]
    }
   ],
   "source": [
    "dim_x = 784\n",
    "dim_h = 100\n",
    "dim_out = 10\n",
    "\n",
    "model = torch.nn.Sequential(\n",
    "    torch.nn.Linear(dim_x, dim_h),\n",
    "    torch.nn.ReLU(),\n",
    "    torch.nn.Linear(dim_h, dim_out),\n",
    ")\n",
    "\n",
    "learning_rate = 1e-2\n",
    "epochs = 2\n",
    "\n",
    "optimizer = torch.optim.SGD(model.parameters(), lr=learning_rate)\n",
    "\n",
    "# Using GPUs in PyTorch is pretty straightforward\n",
    "if torch.cuda.is_available():\n",
    "    print(\"Using cuda\")\n",
    "    use_cuda = True\n",
    "    device = torch.device(\"cuda\")\n",
    "else:\n",
    "    device = \"cpu\"\n",
    "\n",
    "# we need to tell pytorch to move the model to gpu\n",
    "model.to(device)\n",
    "\n",
    "loss_fn = torch.nn.CrossEntropyLoss()\n",
    "\n",
    "model.train()\n",
    "for epoch in range(epochs):\n",
    "    print(epoch)\n",
    "    for i, (xb, yb) in enumerate(train_dl):\n",
    "\n",
    "        # We also need to transfer the data to the target device\n",
    "        xb = xb.to(device)\n",
    "        yb = yb.to(device)\n",
    "        xb = xb.view(xb.size(0), -1)\n",
    "\n",
    "        # Forward pass\n",
    "        y_pred = model(xb)\n",
    "        loss = loss_fn(y_pred, yb)\n",
    "\n",
    "        # Backward pass\n",
    "        model.zero_grad()  # Zero out the previous gradient computation\n",
    "        loss.backward()  # Compute the gradient\n",
    "        optimizer.step()  # Use the gradient information to make a step\n",
    "\n",
    "    test_loss, test_acc = get_test_stat(model, test_dl, device)\n",
    "    print(\"Test loss: {}  Test acc: {}\".format(test_loss, test_acc))"
   ]
  },
  {
   "cell_type": "markdown",
   "metadata": {
    "id": "nSTuUZlRgeUD"
   },
   "source": [
    "### Dynamic network"
   ]
  },
  {
   "cell_type": "markdown",
   "metadata": {
    "id": "Ji_qMWsOgbbj"
   },
   "source": [
    "To showcase the power of PyTorch dynamic graphs, we will implement a very strange model: a fully-connected ReLU network that on each forward pass randomly chooses a number between 1 and 4 and has that many hidden layers, reusing the same weights multiple times to compute the innermost hidden layers.\n",
    "\n",
    "By Justin Johnson: https://github.com/jcjohnson/pytorch-examples/blob/master/nn/dynamic_net.py."
   ]
  },
  {
   "cell_type": "code",
   "execution_count": 41,
   "metadata": {
    "colab": {
     "base_uri": "https://localhost:8080/"
    },
    "id": "D5dRsCN9gnvU",
    "outputId": "00ee54ce-5cb0-4b88-dc16-42fbf6a5c2aa"
   },
   "outputs": [
    {
     "name": "stdout",
     "output_type": "stream",
     "text": [
      "0 75.02091979980469\n",
      "10 65.0484619140625\n",
      "20 60.80870056152344\n",
      "30 54.69645309448242\n",
      "40 11.830069541931152\n"
     ]
    }
   ],
   "source": [
    "import random\n",
    "\n",
    "\n",
    "class DynamicNet(torch.nn.Module):\n",
    "    def __init__(self, D_in, H, D_out):\n",
    "        \"\"\"\n",
    "        In the constructor we construct three nn.Linear instances that we will use\n",
    "        in the forward pass.\n",
    "        \"\"\"\n",
    "        super(DynamicNet, self).__init__()\n",
    "        self.input_linear = torch.nn.Linear(D_in, H)\n",
    "        self.middle_linear = torch.nn.Linear(H, H)\n",
    "        self.output_linear = torch.nn.Linear(H, D_out)\n",
    "\n",
    "    def forward(self, x, verbose=False):\n",
    "        \"\"\"\n",
    "        For the forward pass of the model, we randomly choose either 0, 1, 2, or 3\n",
    "        and reuse the middle_linear Module that many times to compute hidden layer\n",
    "        representations.\n",
    "        Since each forward pass builds a dynamic computation graph, we can use normal\n",
    "        Python control-flow operators like loops or conditional statements when\n",
    "        defining the forward pass of the model.\n",
    "        Here we also see that it is perfectly safe to reuse the same Module many\n",
    "        times when defining a computational graph. This is a big improvement from Lua\n",
    "        Torch, where each Module could be used only once.\n",
    "        \"\"\"\n",
    "        h_relu = self.input_linear(x).clamp(min=0)\n",
    "        n_layers = random.randint(0, 3)\n",
    "        if verbose:\n",
    "            print(\"The number of layers for this run is\", n_layers)\n",
    "            # print(h_relu)\n",
    "        for _ in range(n_layers):\n",
    "            h_relu = self.middle_linear(h_relu).clamp(min=0)\n",
    "            if verbose:\n",
    "                pass\n",
    "                # print(h_relu)\n",
    "        y_pred = self.output_linear(h_relu)\n",
    "        return y_pred\n",
    "\n",
    "\n",
    "# N is batch size; D_in is input dimension;\n",
    "# H is hidden dimension; D_out is output dimension.\n",
    "N, D_in, H, D_out = 64, 1000, 10, 1\n",
    "\n",
    "# Create random Tensors to hold inputs and outputs, and wrap them in Variables\n",
    "x = torch.randn(N, D_in)\n",
    "y = torch.randn(N, D_out).requires_grad_(False)\n",
    "\n",
    "# Construct our model by instantiating the class defined above\n",
    "model = DynamicNet(D_in, H, D_out)\n",
    "\n",
    "# Construct our loss function and an Optimizer. Training this strange model with\n",
    "# vanilla stochastic gradient descent is tough, so we use momentum\n",
    "criterion = torch.nn.MSELoss(reduction=\"sum\")\n",
    "optimizer = torch.optim.SGD(model.parameters(), lr=1e-4, momentum=0.9)\n",
    "for t in range(50):\n",
    "    # Forward pass: Compute predicted y by passing x to the model\n",
    "    y_pred = model(x)\n",
    "\n",
    "    # Compute and print loss\n",
    "    loss = criterion(y_pred, y)\n",
    "    if t % 10 == 0:\n",
    "        print(t, loss.data.item())\n",
    "\n",
    "    # Zero gradients, perform a backward pass, and update the weights.\n",
    "    optimizer.zero_grad()\n",
    "    loss.backward()\n",
    "    optimizer.step()"
   ]
  },
  {
   "cell_type": "markdown",
   "metadata": {
    "id": "FX-mRC_5iNvs"
   },
   "source": [
    "### CIFAR10 classification"
   ]
  },
  {
   "cell_type": "markdown",
   "metadata": {
    "id": "KVftofphh-ng"
   },
   "source": [
    "We will finish with an example on [CIFAR10](https://www.cs.toronto.edu/~kriz/cifar.html), highlighting the importance of applying transformations to your inputs.\n"
   ]
  },
  {
   "cell_type": "code",
   "execution_count": 42,
   "metadata": {
    "id": "9iAw2caKiW97"
   },
   "outputs": [],
   "source": [
    "import torch.nn as nn\n",
    "import torch.nn.functional as F\n",
    "\n",
    "# add residual connections\n",
    "class Net(nn.Module):\n",
    "    def __init__(self):\n",
    "        super(Net, self).__init__()\n",
    "        self.conv1 = nn.Conv2d(3, 6, 5) #input channel, output channel, kernel size\n",
    "        self.pool = nn.MaxPool2d(2, 2)\n",
    "        self.conv2 = nn.Conv2d(6, 16, 5) #add padding\n",
    "        self.fc1 = nn.Linear(16 * 5 * 5, 120) #classification layers\n",
    "        self.fc2 = nn.Linear(120, 120)\n",
    "        self.fc3 = nn.Linear(120, 10)\n",
    "\n",
    "    def forward(self, x):\n",
    "        x = self.pool(F.relu(self.conv1(x)))\n",
    "        x = self.pool(F.relu(self.conv2(x)))\n",
    "        x = x.view(-1, 16 * 5 * 5) # flatten\n",
    "        x = F.relu(self.fc1(x))\n",
    "        x = F.relu(self.fc2(x))\n",
    "        x = self.fc3(x)\n",
    "        return x"
   ]
  },
  {
   "cell_type": "code",
   "execution_count": 43,
   "metadata": {
    "id": "A3p2SQViibIc"
   },
   "outputs": [],
   "source": [
    "def get_data(data_normalize=False, data_augment=False):\n",
    "    train_transform = transforms.Compose([])\n",
    "    test_transform = transforms.Compose([])\n",
    "\n",
    "    if data_augment:\n",
    "        train_transform.transforms.append(transforms.RandomCrop(32, padding=4))\n",
    "        train_transform.transforms.append(transforms.RandomHorizontalFlip())\n",
    "\n",
    "    train_transform.transforms.append(transforms.ToTensor())\n",
    "    test_transform.transforms.append(transforms.ToTensor())\n",
    "\n",
    "    if data_normalize:\n",
    "        normalize = transforms.Normalize(\n",
    "            mean=[x / 255.0 for x in [125.3, 123.0, 113.9]],\n",
    "            std=[x / 255.0 for x in [63.0, 62.1, 66.7]],\n",
    "        )\n",
    "        train_transform.transforms.append(normalize)\n",
    "        test_transform.transforms.append(normalize)\n",
    "\n",
    "    train_dataset = datasets.CIFAR10(\n",
    "        root=\"data/\", train=True, transform=train_transform, download=True\n",
    "    )\n",
    "\n",
    "    test_dataset = datasets.CIFAR10(\n",
    "        root=\"data/\", train=False, transform=test_transform, download=True\n",
    "    )\n",
    "    train_loader = torch.utils.data.DataLoader(\n",
    "        dataset=train_dataset, batch_size=128, shuffle=True, num_workers=2\n",
    "    )\n",
    "\n",
    "    test_loader = torch.utils.data.DataLoader(\n",
    "        dataset=test_dataset, batch_size=128, shuffle=False, num_workers=2\n",
    "    )\n",
    "    return train_loader, test_loader\n",
    "\n",
    "\n",
    "def test(net, loader):\n",
    "    net.eval()  # Change model to 'eval' mode (BN uses moving mean/var).\n",
    "    correct = 0.0\n",
    "    total = 0.0\n",
    "    for images, labels in loader:\n",
    "        with torch.no_grad():\n",
    "            pred = net(images)\n",
    "\n",
    "        pred = torch.max(pred.data, 1)[1]\n",
    "        total += labels.size(0)\n",
    "        correct += (pred == labels).sum().item()\n",
    "\n",
    "    val_acc = correct / total\n",
    "    net.train()\n",
    "    return val_acc"
   ]
  },
  {
   "cell_type": "code",
   "execution_count": 44,
   "metadata": {
    "id": "-GR395vyihIU"
   },
   "outputs": [],
   "source": [
    "def train_model(train_loader, test_loader, epochs=5):\n",
    "\n",
    "    net = Net()\n",
    "    optimizer = torch.optim.SGD(net.parameters(), lr=0.1, momentum=0.9)\n",
    "    criterion = nn.CrossEntropyLoss()\n",
    "    train_accs = []\n",
    "    test_accs = []\n",
    "\n",
    "    net.train()\n",
    "\n",
    "    for epoch in range(epochs):\n",
    "        print(epoch)\n",
    "\n",
    "        xentropy_loss_avg = 0.0\n",
    "        correct = 0.0\n",
    "        total = 0.0\n",
    "\n",
    "        for i, (images, labels) in enumerate(train_loader):\n",
    "\n",
    "            net.zero_grad()\n",
    "            pred = net(images)\n",
    "            xentropy_loss = criterion(pred, labels)\n",
    "            xentropy_loss.backward()\n",
    "            optimizer.step()\n",
    "\n",
    "            xentropy_loss_avg += xentropy_loss.item()\n",
    "\n",
    "            # Calculate running average of accuracy\n",
    "            pred = torch.max(pred.data, 1)[1]\n",
    "            total += labels.size(0)\n",
    "            correct += (pred == labels.data).sum().item()\n",
    "            accuracy = correct / total\n",
    "\n",
    "        test_acc = test(net, test_loader)\n",
    "        print(\"Test acc: \", test_acc)\n",
    "        train_accs.append(accuracy)\n",
    "        test_accs.append(test_acc)\n",
    "    return train_accs, test_accs"
   ]
  },
  {
   "cell_type": "code",
   "execution_count": 49,
   "metadata": {
    "colab": {
     "base_uri": "https://localhost:8080/"
    },
    "id": "MADQb81UijK7",
    "outputId": "96f9f2b7-7bfa-4f1a-9033-313c932a53de"
   },
   "outputs": [
    {
     "name": "stdout",
     "output_type": "stream",
     "text": [
      "Files already downloaded and verified\n",
      "Files already downloaded and verified\n",
      "0\n",
      "Test acc:  0.2776\n",
      "1\n",
      "Test acc:  0.3297\n",
      "2\n",
      "Test acc:  0.3621\n"
     ]
    }
   ],
   "source": [
    "train_loader, test_loader = get_data(data_augment=False, data_normalize=False)\n",
    "train_accs, test_accs = train_model(train_loader, test_loader, epochs=3)"
   ]
  },
  {
   "cell_type": "code",
   "execution_count": 50,
   "metadata": {
    "colab": {
     "base_uri": "https://localhost:8080/"
    },
    "id": "UnYCP-REikzs",
    "outputId": "3078c83c-3d19-47f8-d209-d9a3ddf1fec8"
   },
   "outputs": [
    {
     "name": "stdout",
     "output_type": "stream",
     "text": [
      "Files already downloaded and verified\n",
      "Files already downloaded and verified\n",
      "0\n",
      "Test acc:  0.3905\n",
      "1\n",
      "Test acc:  0.4036\n",
      "2\n",
      "Test acc:  0.4141\n"
     ]
    }
   ],
   "source": [
    "train_loader, test_loader = get_data(data_augment=False, data_normalize=True)\n",
    "normalize_train_accs, normalize_test_accs = train_model(train_loader, test_loader, epochs=3)"
   ]
  },
  {
   "cell_type": "code",
   "execution_count": 51,
   "metadata": {
    "colab": {
     "base_uri": "https://localhost:8080/",
     "height": 472
    },
    "id": "aRwFghLzimSJ",
    "outputId": "39870aac-93ea-4d95-8bb5-965790103109"
   },
   "outputs": [
    {
     "data": {
      "image/png": "[encoded data removed]",
      "text/plain": [
       "<Figure size 640x480 with 1 Axes>"
      ]
     },
     "metadata": {},
     "output_type": "display_data"
    }
   ],
   "source": [
    "fig, ax = plt.subplots()\n",
    "epochs = 3\n",
    "ax.plot(range(epochs), train_accs, c=\"red\", label=\"without input normalization\")\n",
    "ax.plot(range(epochs), normalize_train_accs, c=\"blue\", label=\"with input normalization\")\n",
    "ax.legend()\n",
    "ax.set_xlabel(\"Epochs\")\n",
    "ax.set_ylabel(\"Accuracy\")\n",
    "ax.set_title(\"Train Accuracy\")\n",
    "fig.show()"
   ]
  }
 ],
 "metadata": {
  "accelerator": "GPU",
  "colab": {
   "provenance": [],
   "toc_visible": true
  },
  "kernelspec": {
   "display_name": "Python 3 (ipykernel)",
   "language": "python",
   "name": "python3"
  },
  "language_info": {
   "codemirror_mode": {
    "name": "ipython",
    "version": 3
   },
   "file_extension": ".py",
   "mimetype": "text/x-python",
   "name": "python",
   "nbconvert_exporter": "python",
   "pygments_lexer": "ipython3",
   "version": "3.11.5"
  }
 },
 "nbformat": 4,
 "nbformat_minor": 4
}
