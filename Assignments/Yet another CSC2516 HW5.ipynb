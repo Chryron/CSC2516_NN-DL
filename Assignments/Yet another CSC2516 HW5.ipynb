{
 "cells": [
  {
   "cell_type": "markdown",
   "metadata": {
    "id": "VYovBDSbwfYD"
   },
   "source": [
    "# 1. Receptive field and parameter count (1 point)\n",
    "\n",
    "Recall that the *receptive field* refers to size of the region in the input that are visible to a given activation (or neuron) in a convolutional neural network. \"Visible\" here means that the values of those inputs affect the value of the activation. In all of the following questions, assume that the input image is arbitrarily large, so you don't need to worry about boundary effects or padding.\n",
    "\n",
    "1. Consider a convolutional network which consists of three convolutional layers, each with a filter size of 3x3, and a stride of 1x1. What is the receptive field size of one of the activations at the final output?\n",
    "1. What is the receptive field if the stride is 2x3 at each layer?\n",
    "1. What is the receptive field if the stride is 2x2 at each layer, and there is a 2x2 max-pooling layer with stride 2x2 after each convolutional layer?\n",
    "1. Assume that the input image has 3 channels, the three convolutional layers have 16, 32, and 64 channels respectively, and that there are no biases on any of the layers. How many parameters does the network have?"
   ]
  },
  {
   "cell_type": "markdown",
   "metadata": {
    "id": "T8t21JGZyUr-"
   },
   "source": [
    "# 2. CIFAR-10 classification (4 points)\n",
    "\n",
    "CIFAR-10 is a standard dataset where the goal is to classify 32 x 32 images into one of 10 classes. The goal of this problem is simple: build and train a convolutional neural network to perform classification on CIFAR-10. The problem is intentionally extremely open-ended! There are dozens (hundreds?) of tutorials online describing how to train a convnet on CIFAR-10 - please seek them out and make use of them. I recommend getting started with the [CIFAR-10 tutorial from PyTorch](https://colab.research.google.com/github/pytorch/tutorials/blob/gh-pages/_downloads/cifar10_tutorial.ipynb) which includes code for loading the dataset and evaluating performance on it. You are welcome to use any other resource that you want (but please cite it!) - as I mentioned there are many, many tutorials online, and googling for help is an utterly crucial skill for a researcher! You will be graded on the final test accuracy achieved by your model:\n",
    "\n",
    "- 60% accuracy or higher: 2/4 points\n",
    "- 75% accuracy or higher: 3/4 points\n",
    "- 90% accuracy or higher: 4/4 points\n",
    "- Highest accuracy in the class: 4/3 points!\n",
    "\n",
    "Note that in order for us to know the final performance of your model, you will need to implement a function that computes the accuracy of your model on the test set (which appears in both of the linked tutorials above). The only rules are: You can only train your model on the CIFAR-10 training set (i.e. you can't use pre-trained models or other datasets for additional training, and you certaintly can't train on the CIFAR-10 test set!), and you must train the model on the free Colab GPU or TPU. This means you can only train the model for an hour or so! This is *much* less compute than is typically used for training CIFAR-10 models. As such, this is as much an exercise in building an accurate model as it is in building an efficient one. This is a popular game to play, and to the best of my knowledge the state-of-the-art is [this approach](https://myrtle.ai/learn/how-to-train-your-resnet/) which attains 96% accuracy in only *26 seconds* on a single GPU! (note that the final link on that page is broken; it should be [this](https://myrtle.ai/learn/how-to-train-your-resnet-8-bag-of-tricks/)).\n",
    "\n",
    "There are lots of things you can try to make your model more accurate and/or more efficient:\n",
    "\n",
    "1. Deeper models\n",
    "1. Residual connections\n",
    "1. [Data augmentation and normalization](https://d2l.ai/chapter_computer-vision/kaggle-cifar10.html#image-augmentation)\n",
    "1. Regularization like dropout or weight decay\n",
    "1. [Learning rate schedules](https://d2l.ai/chapter_optimization/lr-scheduler.html)\n",
    "1. [Different forms of normalization](https://d2l.ai/chapter_convolutional-modern/batch-norm.html)\n",
    "\n",
    "Note that we haven't covered all these topics in class yet, but you should be able to get to at least 60% accuracy without applying all of these ideas - and probably 75% by tweaking around a little bit. Specifically, you should be able to get about 60% accuracy by taking the basic AlexNet architecture we discussed in class and applying it directly to CIFAR-10. And, if you're feeling adventurous, feel free to go for 96% using the aforementioned blog series! Good luck!"
   ]
  },
  {
   "cell_type": "code",
   "execution_count": 15,
   "metadata": {
    "id": "sVoUdUm1g6RZ"
   },
   "outputs": [],
   "source": [
    "# Import Statements\n",
    "import torch\n",
    "import torchvision\n",
    "import torchvision.transforms as transforms\n",
    "import torch.nn as nn\n",
    "from torch import Tensor\n",
    "from typing import Type\n",
    "import matplotlib.pyplot as plt"
   ]
  },
  {
   "cell_type": "code",
   "execution_count": 16,
   "metadata": {
    "id": "j733sDID2X0V"
   },
   "outputs": [],
   "source": [
    "epochs = 24\n",
    "warmup = 5\n",
    "batch_size = 400\n",
    "momentum=0.9\n",
    "learning_rate = 0.01\n",
    "weight_decay = 0.000125\n",
    "device = torch.device(\"mps\")"
   ]
  },
  {
   "cell_type": "code",
   "execution_count": 17,
   "metadata": {
    "id": "TyKlaWkaeaN8"
   },
   "outputs": [],
   "source": [
    "# Transformation to Dataset\n",
    "\n",
    "# Augmenting the dataset\n",
    "transform_train = transforms.Compose([\n",
    "    # Scale the image up to a square of 40 pixels in both height and width\n",
    "    transforms.Resize(40),\n",
    "    # Randomly crop a square image of 40 pixels in both height and width to\n",
    "    # produce a small square of 0.64 to 1 times the area of the original\n",
    "    # image, and then scale it to a square of 32 pixels in both height and\n",
    "    # width\n",
    "    transforms.RandomResizedCrop(32, scale=(0.64, 1.0),\n",
    "                                                   ratio=(1.0, 1.0)),\n",
    "    transforms.RandomHorizontalFlip(),\n",
    "    transforms.ToTensor(),\n",
    "    # Standardize each channel of the image\n",
    "    transforms.Normalize([0.4914, 0.4822, 0.4465], # Is this the best normalization? Or [0.5, 0.5, 0.5]?\n",
    "     [0.2023, 0.1994, 0.2010])])\n",
    "\n",
    "transform_test = transforms.Compose([\n",
    "    transforms.ToTensor(),\n",
    "    transforms.Normalize([0.4914, 0.4822, 0.4465], # Is this the best normalization?\n",
    "     [0.2023, 0.1994, 0.2010])])\n",
    "\n",
    "transform = transforms.Compose([\n",
    "    transforms.ToTensor(),\n",
    "    transforms.Normalize((0.5, 0.5, 0.5), (0.5, 0.5, 0.5))])\n"
   ]
  },
  {
   "cell_type": "code",
   "execution_count": 18,
   "metadata": {
    "colab": {
     "base_uri": "https://localhost:8080/"
    },
    "id": "qWAbkTA_mC1g",
    "outputId": "deebc9f9-d936-445b-adc2-e088452331ec"
   },
   "outputs": [
    {
     "name": "stdout",
     "output_type": "stream",
     "text": [
      "Files already downloaded and verified\n",
      "Files already downloaded and verified\n"
     ]
    }
   ],
   "source": [
    "# Loading Dataset\n",
    "\n",
    "# Load Training Dataset\n",
    "trainset = torchvision.datasets.CIFAR10(\"../data/train_data\", train=True,\n",
    "                                        download=True, transform=transform_train)\n",
    "trainloader = torch.utils.data.DataLoader(trainset, batch_size=batch_size,\n",
    "                                          shuffle=True, num_workers=2)\n",
    "\n",
    "# Load Testing Dataset\n",
    "testset = torchvision.datasets.CIFAR10(\"../data/test_data\", train=False,\n",
    "                                       download=True, transform=transform_test)\n",
    "testloader = torch.utils.data.DataLoader(testset, batch_size=batch_size,\n",
    "                                         shuffle=False, num_workers=2)"
   ]
  },
  {
   "cell_type": "code",
   "execution_count": 19,
   "metadata": {
    "colab": {
     "base_uri": "https://localhost:8080/",
     "height": 120
    },
    "id": "zHdQvHgOnMq8",
    "outputId": "af7ac64e-0336-4563-b751-863a7040c19e"
   },
   "outputs": [
    {
     "data": {
      "text/plain": [
       "'\\n    # Basic Block\\nclass BasicBlock(nn.Module): # expands nn.module class\\n  def __init__(self, in_channels: int, out_channels: int, pool=False, downsample: nn.Module = None) -> None: # Initialize Basic Block\\n    super(BasicBlock, self).__init__() # Initialize nn.module\\n\\n    # Set params\\n    self.expansion = 1\\n    self.downsample = downsample\\n\\n    # Set layers\\n    self.conv1 = nn.Conv2d(in_channels, out_channels, kernel_size=3, padding=1, bias=False)\\n    self.bn1 = nn.BatchNorm2d(out_channels)\\n    self.celu = nn.CELU(inplace=True) # Maybe change to ReLU?\\n\\n    if pool: self.pool = nn.MaxPool2d(2)\\n\\n  def forward(self, x: Tensor) -> Tensor: # Order of going through layers\\n    identity = x\\n\\n    out = self.conv1(x)\\n    out = self.bn1(out)\\n    out = self.celu(out)\\n\\n    if self.pool:\\n      out = self.pool(out)\\n\\n    return  out\\n'"
      ]
     },
     "execution_count": 19,
     "metadata": {},
     "output_type": "execute_result"
    }
   ],
   "source": [
    "# ResNet-18\n",
    "\n",
    "# Basic Block\n",
    "def conv_block(in_channels, out_channels, pool=False):\n",
    "    layers = [nn.Conv2d(in_channels, out_channels, kernel_size=3, padding=1),\n",
    "              nn.BatchNorm2d(out_channels),\n",
    "              nn.ReLU(inplace=True)]\n",
    "    if pool: layers.append(nn.MaxPool2d(2))\n",
    "    return nn.Sequential(*layers)\n",
    "\n",
    "'''\n",
    "    # Basic Block\n",
    "class BasicBlock(nn.Module): # expands nn.module class\n",
    "  def __init__(self, in_channels: int, out_channels: int, pool=False, downsample: nn.Module = None) -> None: # Initialize Basic Block\n",
    "    super(BasicBlock, self).__init__() # Initialize nn.module\n",
    "\n",
    "    # Set params\n",
    "    self.expansion = 1\n",
    "    self.downsample = downsample\n",
    "\n",
    "    # Set layers\n",
    "    self.conv1 = nn.Conv2d(in_channels, out_channels, kernel_size=3, padding=1, bias=False)\n",
    "    self.bn1 = nn.BatchNorm2d(out_channels)\n",
    "    self.celu = nn.CELU(inplace=True) # Maybe change to ReLU?\n",
    "\n",
    "    if pool: self.pool = nn.MaxPool2d(2)\n",
    "\n",
    "  def forward(self, x: Tensor) -> Tensor: # Order of going through layers\n",
    "    identity = x\n",
    "\n",
    "    out = self.conv1(x)\n",
    "    out = self.bn1(out)\n",
    "    out = self.celu(out)\n",
    "\n",
    "    if self.pool:\n",
    "      out = self.pool(out)\n",
    "\n",
    "    return  out\n",
    "'''"
   ]
  },
  {
   "cell_type": "code",
   "execution_count": 20,
   "metadata": {
    "id": "2VaPufwjzJMx"
   },
   "outputs": [],
   "source": [
    "# ResNet Block\n",
    "\n",
    "class ResNet(nn.Module):\n",
    "    def __init__(self, in_channels, num_classes):\n",
    "        super().__init__()\n",
    "\n",
    "        self.conv1 = conv_block(in_channels, 64)\n",
    "        self.conv2 = conv_block(64, 128, pool=True)\n",
    "        self.res1 = nn.Sequential(conv_block(128, 128), conv_block(128, 128))\n",
    "\n",
    "        self.conv3 = conv_block(128, 256, pool=True)\n",
    "        self.conv4 = conv_block(256, 512, pool=True)\n",
    "        self.res2 = nn.Sequential(conv_block(512, 512), conv_block(512, 512))\n",
    "\n",
    "        self.classifier = nn.Sequential(nn.MaxPool2d(4),\n",
    "                                        nn.Flatten(),\n",
    "                                        nn.Linear(512, num_classes))\n",
    "\n",
    "    def forward(self, xb):\n",
    "        out = self.conv1(xb)\n",
    "        out = self.conv2(out)\n",
    "        out = self.res1(out) + out\n",
    "        out = self.conv3(out)\n",
    "        out = self.conv4(out)\n",
    "        out = self.res2(out) + out\n",
    "        out = self.classifier(out)\n",
    "        return out"
   ]
  },
  {
   "cell_type": "code",
   "execution_count": 21,
   "metadata": {
    "id": "874mlzznzn6q"
   },
   "outputs": [],
   "source": [
    "def save_plots(train_acc, valid_acc, train_loss, valid_loss, name=None):\n",
    "    \"\"\"\n",
    "    Function to save the loss and accuracy plots to disk.\n",
    "    \"\"\"\n",
    "    # Accuracy plots.\n",
    "    plt.figure(figsize=(10, 7))\n",
    "    plt.subplot(1, 2, 1)\n",
    "    plt.plot(\n",
    "        train_acc, color='tab:blue', linestyle='-',\n",
    "        label='train accuracy'\n",
    "    )\n",
    "    plt.plot(\n",
    "        valid_acc, color='tab:red', linestyle='-',\n",
    "        label='validataion accuracy'\n",
    "    )\n",
    "    plt.xlabel('Epochs')\n",
    "    plt.ylabel('Accuracy')\n",
    "    plt.legend()\n",
    "\n",
    "    # Loss plots.\n",
    "    plt.subplot(1, 2, 2)\n",
    "    plt.figure(figsize=(10, 7))\n",
    "    plt.plot(\n",
    "        train_loss, color='tab:blue', linestyle='-',\n",
    "        label='train loss'\n",
    "    )\n",
    "    plt.plot(\n",
    "        valid_loss, color='tab:red', linestyle='-',\n",
    "        label='validataion loss'\n",
    "    )\n",
    "    plt.xlabel('Epochs')\n",
    "    plt.ylabel('Loss')\n",
    "    plt.legend()"
   ]
  },
  {
   "cell_type": "code",
   "execution_count": 32,
   "metadata": {
    "id": "LkJlFmTn0wR7"
   },
   "outputs": [],
   "source": [
    "# from tqdm import tqdm\n",
    "# Training function.\n",
    "import time\n",
    "def train(model, trainloader, optimizer, criterion, device, sched): # device\n",
    "    model.train()\n",
    "    print('Training')\n",
    "    train_running_loss = 0.0\n",
    "    train_running_correct = 0\n",
    "    lrs = [] # NOTUSED\n",
    "    # NOTUSED sched\n",
    "    \n",
    "    for image, labels in trainloader:\n",
    "        # image, labels = data\n",
    "        image = image.to(device)\n",
    "        labels = labels.to(device)\n",
    "        optimizer.zero_grad()\n",
    "        # Forward pass.\n",
    "        outputs = model(image)\n",
    "        # Calculate the loss.\n",
    "        loss = criterion(outputs, labels)\n",
    "        train_running_loss += loss.item()\n",
    "        # Calculate the accuracy.\n",
    "        _, preds = torch.max(outputs.data, 1)\n",
    "        train_running_correct += (preds == labels).sum().item()\n",
    "        # Backpropagation\n",
    "        loss.backward()\n",
    "        # Update the weights.\n",
    "        optimizer.step()\n",
    "\n",
    "    # Loss and accuracy for the complete epoch.\n",
    "    epoch_loss = train_running_loss / len(trainloader.dataset)\n",
    "    # epoch_acc = 100. * (train_running_correct / len(trainloader.dataset))\n",
    "    epoch_acc = 100. * (train_running_correct / len(trainloader.dataset))\n",
    "    return epoch_loss, epoch_acc"
   ]
  },
  {
   "cell_type": "code",
   "execution_count": 33,
   "metadata": {
    "id": "mbgpDDEt0zNC"
   },
   "outputs": [],
   "source": [
    "# Validation function.\n",
    "def test(model, testloader, criterion, device): #device\n",
    "    model.eval()\n",
    "    \n",
    "    print('Testing')\n",
    "    test_running_loss = 0.0\n",
    "    test_running_correct = 0\n",
    "    counter = 0\n",
    "    with torch.no_grad():\n",
    "        for image, labels in testloader:\n",
    "\n",
    "            image = image.to(device)\n",
    "            labels = labels.to(device)\n",
    "            # Forward pass.\n",
    "            outputs = model(image)\n",
    "            # Calculate the loss.\n",
    "            loss = criterion(outputs, labels)\n",
    "            test_running_loss += loss.item()\n",
    "            # Calculate the accuracy.\n",
    "            _, preds = torch.max(outputs.data, 1)\n",
    "            test_running_correct += (preds == labels).sum().item()\n",
    "\n",
    "    # Loss and accuracy for the complete epoch.\n",
    "    epoch_loss = test_running_loss / len(testloader.dataset)\n",
    "    epoch_acc = 100. * (test_running_correct / len(testloader.dataset))\n",
    "    return epoch_loss, epoch_acc"
   ]
  },
  {
   "cell_type": "code",
   "execution_count": 24,
   "metadata": {
    "id": "9HOxCtLa1AN7"
   },
   "outputs": [],
   "source": [
    "import torch.optim as optim\n",
    "import argparse\n",
    "import numpy as np\n",
    "import random\n",
    "\n",
    "# Set seed.\n",
    "#seed = 42\n",
    "#torch.manual_seed(seed)\n",
    "#torch.cuda.manual_seed(seed)\n",
    "#torch.backends.cudnn.deterministic = True\n",
    "#torch.backends.cudnn.benchmark = True\n",
    "#np.random.seed(seed)\n",
    "#random.seed(seed)"
   ]
  },
  {
   "cell_type": "code",
   "execution_count": 27,
   "metadata": {
    "colab": {
     "base_uri": "https://localhost:8080/"
    },
    "id": "ibJsSdXu1Mla",
    "outputId": "c86a0295-05c7-468d-cf09-27cc0eed33f6"
   },
   "outputs": [],
   "source": [
    "# Learning and training parameters.\n",
    "#device = torch.device('cuda:0' if torch.cuda.is_available() else 'cpu')\n",
    "\n",
    "# Define model\n",
    "model = ResNet(in_channels=3, num_classes=10).to(device)\n",
    "# plot_name = 'resnet_scratch'\n",
    "\n",
    "# # Total parameters and trainable parameters.\n",
    "# total_params = sum(p.numel() for p in model.parameters())\n",
    "# print(f\"{total_params:,} total parameters.\")\n",
    "# total_trainable_params = sum(\n",
    "#     p.numel() for p in model.parameters() if p.requires_grad)\n",
    "# print(f\"{total_trainable_params:,} training parameters.\")\n",
    "# Optimizer.\n",
    "# optimizer = optim.SGD(model.parameters(), lr=learning_rate, momentum=0.9)\n",
    "optimizer = optim.Adam(model.parameters(), learning_rate, weight_decay=weight_decay)\n",
    "# Loss function.\n",
    "criterion = nn.CrossEntropyLoss()\n",
    "# Schedule\n",
    "sched = optim.lr_scheduler.OneCycleLR(optimizer, learning_rate, epochs=epochs,\n",
    "                                      steps_per_epoch=len(trainloader))"
   ]
  },
  {
   "cell_type": "code",
   "execution_count": 34,
   "metadata": {
    "colab": {
     "base_uri": "https://localhost:8080/"
    },
    "id": "jA0rrUz71SJa",
    "outputId": "87f16420-b479-4ad6-b2bb-f95af78381be"
   },
   "outputs": [
    {
     "name": "stdout",
     "output_type": "stream",
     "text": [
      "Training\n",
      "Testing\n",
      "[INFO]: Epoch 1 of 24, Elapsed time: 3m 55s\n",
      "Training loss: 0.002, training acc: 71.722\n",
      "Validation loss: 0.002, validation acc: 68.920\n",
      "--------------------------------------------------\n",
      "Training\n",
      "Testing\n",
      "[INFO]: Epoch 2 of 24, Elapsed time: 4m 20s\n",
      "Training loss: 0.002, training acc: 77.764\n",
      "Validation loss: 0.002, validation acc: 73.650\n",
      "--------------------------------------------------\n",
      "Training\n"
     ]
    },
    {
     "name": "stderr",
     "output_type": "stream",
     "text": [
      "Exception ignored in: <function _MultiProcessingDataLoaderIter.__del__ at 0x1119604a0>\n",
      "Traceback (most recent call last):\n",
      "  File \"/Users/chryron/.local/share/virtualenvs/CSC2516_NN-DL-UFXW_cxZ/lib/python3.11/site-packages/torch/utils/data/dataloader.py\", line 1477, in __del__\n",
      "    def __del__(self):\n",
      "\n",
      "  File \"/Users/chryron/.local/share/virtualenvs/CSC2516_NN-DL-UFXW_cxZ/lib/python3.11/site-packages/torch/utils/data/_utils/signal_handling.py\", line 66, in handler\n",
      "    _error_if_any_worker_fails()\n",
      "RuntimeError: DataLoader worker (pid 44839) is killed by signal: Interrupt: 2. \n"
     ]
    },
    {
     "ename": "KeyboardInterrupt",
     "evalue": "",
     "output_type": "error",
     "traceback": [
      "\u001b[0;31m---------------------------------------------------------------------------\u001b[0m",
      "\u001b[0;31mKeyboardInterrupt\u001b[0m                         Traceback (most recent call last)",
      "Cell \u001b[0;32mIn[34], line 9\u001b[0m\n\u001b[1;32m      7\u001b[0m \u001b[38;5;28;01mfor\u001b[39;00m epoch \u001b[38;5;129;01min\u001b[39;00m \u001b[38;5;28mrange\u001b[39m(epochs):\n\u001b[1;32m      8\u001b[0m   start_time \u001b[38;5;241m=\u001b[39m time\u001b[38;5;241m.\u001b[39mtime()\n\u001b[0;32m----> 9\u001b[0m   train_epoch_loss, train_epoch_acc \u001b[38;5;241m=\u001b[39m \u001b[43mtrain\u001b[49m\u001b[43m(\u001b[49m\n\u001b[1;32m     10\u001b[0m \u001b[43m      \u001b[49m\u001b[43mmodel\u001b[49m\u001b[43m,\u001b[49m\n\u001b[1;32m     11\u001b[0m \u001b[43m      \u001b[49m\u001b[43mtrainloader\u001b[49m\u001b[43m,\u001b[49m\n\u001b[1;32m     12\u001b[0m \u001b[43m      \u001b[49m\u001b[43moptimizer\u001b[49m\u001b[43m,\u001b[49m\n\u001b[1;32m     13\u001b[0m \u001b[43m      \u001b[49m\u001b[43mcriterion\u001b[49m\u001b[43m,\u001b[49m\n\u001b[1;32m     14\u001b[0m \u001b[43m      \u001b[49m\u001b[43mdevice\u001b[49m\u001b[43m,\u001b[49m\n\u001b[1;32m     15\u001b[0m \u001b[43m      \u001b[49m\u001b[43msched\u001b[49m\n\u001b[1;32m     16\u001b[0m \u001b[43m      \u001b[49m\u001b[43m)\u001b[49m\n\u001b[1;32m     17\u001b[0m   test_epoch_loss, test_epoch_acc \u001b[38;5;241m=\u001b[39m test(\n\u001b[1;32m     18\u001b[0m       model,\n\u001b[1;32m     19\u001b[0m       testloader,\n\u001b[1;32m     20\u001b[0m       criterion,\n\u001b[1;32m     21\u001b[0m       device\n\u001b[1;32m     22\u001b[0m       )\n\u001b[1;32m     24\u001b[0m   sched\u001b[38;5;241m.\u001b[39mstep()\n",
      "Cell \u001b[0;32mIn[32], line 14\u001b[0m, in \u001b[0;36mtrain\u001b[0;34m(model, trainloader, optimizer, criterion, device, sched)\u001b[0m\n\u001b[1;32m     10\u001b[0m \u001b[38;5;66;03m# NOTUSED sched\u001b[39;00m\n\u001b[1;32m     12\u001b[0m \u001b[38;5;28;01mfor\u001b[39;00m image, labels \u001b[38;5;129;01min\u001b[39;00m trainloader:\n\u001b[1;32m     13\u001b[0m     \u001b[38;5;66;03m# image, labels = data\u001b[39;00m\n\u001b[0;32m---> 14\u001b[0m     image \u001b[38;5;241m=\u001b[39m \u001b[43mimage\u001b[49m\u001b[38;5;241;43m.\u001b[39;49m\u001b[43mto\u001b[49m\u001b[43m(\u001b[49m\u001b[43mdevice\u001b[49m\u001b[43m)\u001b[49m\n\u001b[1;32m     15\u001b[0m     labels \u001b[38;5;241m=\u001b[39m labels\u001b[38;5;241m.\u001b[39mto(device)\n\u001b[1;32m     16\u001b[0m     optimizer\u001b[38;5;241m.\u001b[39mzero_grad()\n",
      "\u001b[0;31mKeyboardInterrupt\u001b[0m: "
     ]
    }
   ],
   "source": [
    "# Lists to keep track of losses and accuracies.\n",
    "train_loss, test_loss = [], []\n",
    "train_acc, test_acc = [], []\n",
    "lr_tracker = []\n",
    "# Start the training.\n",
    "\n",
    "for epoch in range(epochs):\n",
    "  start_time = time.time()\n",
    "  train_epoch_loss, train_epoch_acc = train(\n",
    "      model,\n",
    "      trainloader,\n",
    "      optimizer,\n",
    "      criterion,\n",
    "      device,\n",
    "      sched\n",
    "      )\n",
    "  test_epoch_loss, test_epoch_acc = test(\n",
    "      model,\n",
    "      testloader,\n",
    "      criterion,\n",
    "      device\n",
    "      )\n",
    "\n",
    "  sched.step()\n",
    "  train_loss.append(train_epoch_loss)\n",
    "  test_loss.append(test_epoch_loss)\n",
    "  train_acc.append(train_epoch_acc)\n",
    "  test_acc.append(test_epoch_acc)\n",
    "  elapsed_time = time.time() - start_time\n",
    "  mins, secs = divmod(elapsed_time, 60)\n",
    "  print(f\"[INFO]: Epoch {epoch+1} of {epochs}, Elapsed time: {int(mins)}m {int(secs)}s\")\n",
    "  print(f\"Training loss: {train_epoch_loss:.3f}, training acc: {train_epoch_acc:.3f}\")\n",
    "  print(f\"Validation loss: {test_epoch_loss:.3f}, validation acc: {test_epoch_acc:.3f}\")\n",
    "  print('-'*50)\n",
    "\n",
    "# Save the loss and accuracy plots.\n",
    "# save_plots(\n",
    "#     train_acc,\n",
    "#     test_acc,\n",
    "#     train_loss,\n",
    "#     test_loss,\n",
    "#     name=plot_name\n",
    "#     )\n",
    "print('TRAINING COMPLETE')"
   ]
  },
  {
   "cell_type": "code",
   "execution_count": null,
   "metadata": {
    "id": "fJeyBgl_hm3s"
   },
   "outputs": [],
   "source": [
    "# Image augmentation - randomly flip stuff (https://d2l.ai/chapter_computer-vision/kaggle-cifar10.html#image-augmentation)\n",
    "# Deeper model and ResNet\n",
    "# Regularization like dropout or weight decay\n",
    "# Learning rate schedulers\n",
    "# Batch normalization (https://d2l.ai/chapter_convolutional-modern/batch-norm.html)"
   ]
  },
  {
   "cell_type": "markdown",
   "metadata": {
    "id": "UKWRPMZ1kg3L"
   },
   "source": [
    "https://medium.com/@nischitasadananda/convolutional-neural-network-data-augmentation-and-batch-normalization-fd9d6237e9e\n",
    "\n",
    "https://d2l.ai/chapter_computer-vision/kaggle-cifar10.html#image-augmentation\n"
   ]
  }
 ],
 "metadata": {
  "accelerator": "TPU",
  "colab": {
   "provenance": []
  },
  "kernelspec": {
   "display_name": "Python 3 (ipykernel)",
   "language": "python",
   "name": "python3"
  },
  "language_info": {
   "codemirror_mode": {
    "name": "ipython",
    "version": 3
   },
   "file_extension": ".py",
   "mimetype": "text/x-python",
   "name": "python",
   "nbconvert_exporter": "python",
   "pygments_lexer": "ipython3",
   "version": "3.11.5"
  }
 },
 "nbformat": 4,
 "nbformat_minor": 4
}
