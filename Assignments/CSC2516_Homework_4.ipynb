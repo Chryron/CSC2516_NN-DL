{
 "cells": [
  {
   "cell_type": "markdown",
   "metadata": {
    "colab_type": "text",
    "id": "view-in-github"
   },
   "source": [
    "<a href=\"https://colab.research.google.com/github/Chryron/CSC2516_NN-DL/blob/main/CSC2516_Homework_4.ipynb\" target=\"_parent\"><img src=\"https://colab.research.google.com/assets/colab-badge.svg\" alt=\"Open In Colab\"/></a>"
   ]
  },
  {
   "cell_type": "markdown",
   "metadata": {
    "id": "nkK2eaK1SiNt"
   },
   "source": [
    "# 1. Backpropagation for bias vectors (1.5 points)\n",
    "\n",
    "In class, we discussed a multilayer perceptron (neural network) whose layers were all \"dense\", i.e. the output $a^m \\in \\mathbb{R}^{N^m}$ of the $m$th layer is computed as\n",
    "\\begin{align*}\n",
    "z^m &= W^m a^{m - 1} + b^m \\\\\n",
    "a^m &= \\sigma^m(z^m)\n",
    "\\end{align*}\n",
    "where $W^m \\in \\mathbb{R}^{N^m \\times N^{m - 1}}$ is the weight matrix, $b^m \\in \\mathbb{R}^{N^m}$ is the bias vector, and $\\sigma^m$ is the nonlinearity. We showed that\n",
    "$$\\frac{\\partial C}{\\partial W^m} = \\frac{\\partial C}{\\partial z^m} a^{m - 1 \\top}$$\n",
    "Show that\n",
    "$$\\frac{\\partial C}{\\partial b^m} = \\frac{\\partial C}{\\partial z^m}$$\n",
    "Hint: The derivation is almost the same as for $W$."
   ]
  },
  {
   "cell_type": "markdown",
   "metadata": {},
   "source": [
    "$$\n",
    "\\frac{\\partial C}{\\partial b^m} = \\frac{\\partial C}{\\partial z^m}\\frac{\\partial z^m}{\\partial b^m}\n",
    "$$\n",
    "Considering elementwise partials,\n",
    "$$\n",
    "\\begin{align*}\n",
    "\\frac{\\partial C}{\\partial b^m_k} &= \\frac{\\partial C}{\\partial z^m_k}\\frac{\\partial z^m_k}{\\partial b^m_k} \\\\ \n",
    "z^m_k &= \\sum_{j=1}^{N^m} (W^m_{kj}a^m_j) + b^m_k \\\\ \n",
    "\\text{so, }\\frac{\\partial z^m_k}{\\partial b^m_k} &= 1 \\\\ \n",
    "\\frac{\\partial C}{\\partial b^m_k} &= \\frac{\\partial C}{\\partial z^m_k} \\cdot 1 \\\\ \n",
    "\\end{align*}\n",
    "$$\n",
    "Thus, in vector form: \n",
    "$$\\frac{\\partial C}{\\partial b^m} = \\frac{\\partial C}{\\partial z^m}$$"
   ]
  },
  {
   "cell_type": "markdown",
   "metadata": {
    "id": "TerrZtS6T31p"
   },
   "source": [
    "# 2. MLP from scratch (3.5 points)\n",
    "\n",
    "Using numpy only, implement backward pass or a sigmoid MLP. Specifically, you will need to implement this functionality in the `train` function in the `SigmoidMLP` class below. You should write numpy code to populate the two lists `weight_gradients` and `bias_gradient`, where each entry in each list corresponds to the gradient for a weight matrix or bias vector for each layer. Then, when you run the code cell at the bottom of this notebook, the trained MLP should output (approximately) 0, 1, 1, 0, having learned the [XOR function](https://en.wikipedia.org/wiki/Exclusive_or). Please us a binary cross-entropy loss, i.e.\n",
    "$$C(a^L, y) = (y - 1)\\log(1 - a^L) - y\\log(a^L)$$\n",
    "\n",
    "*Note 1*: All layers in your model, including the last layer, will use the sigmoid nonlinearity. Remember that\n",
    "$$\n",
    "\\frac{\\partial}{\\partial x}\\mathrm{sigmoid}(x) = \\mathrm{sigmoid}(x)(1 - \\mathrm{sigmoid}(x))$$\n",
    "\n",
    "*Note 2*: As we mentioned in class,\n",
    "$$\n",
    "\\frac{\\partial C}{\\partial z^L} = a^L - y\n",
    "$$"
   ]
  },
  {
   "cell_type": "code",
   "execution_count": 32,
   "metadata": {
    "id": "W-v0EeRsV8m9"
   },
   "outputs": [],
   "source": [
    "import numpy as np\n",
    "\n",
    "def sigmoid(X):\n",
    "    return 1/(1 + np.exp(-X))\n",
    "\n",
    "class Layer:\n",
    "    def __init__(self, inputs, outputs):\n",
    "        # Initialize weight matrix and bias vector\n",
    "        # Getting the initialization right can be tricky, but for this problem\n",
    "        # simply drawing from a standard normal distribution should work.\n",
    "        self.weights = np.random.randn(outputs, inputs)\n",
    "        self.biases = np.random.randn(outputs, 1)\n",
    "    def __call__(self, X):\n",
    "        # Compute \\sigmoid(Wx + b)\n",
    "        return 1/(1 + np.exp(-(self.weights.dot(X) + self.biases)))\n",
    "\n",
    "class SigmoidMLP:\n",
    "\n",
    "    def __init__(self, layer_widths):\n",
    "        self.layers = []\n",
    "        for inputs, outputs in zip(layer_widths[:-1], layer_widths[1:]):\n",
    "            self.layers.append(Layer(inputs, outputs))\n",
    "\n",
    "    def train(self, inputs, targets, learning_rate):\n",
    "        # Forward pass - compute each layer's output and store it for later use\n",
    "        layer_outputs = [inputs]\n",
    "        for layer in self.layers:\n",
    "            layer_outputs.append(layer(layer_outputs[-1]))\n",
    "\n",
    "        # Implement backward pass to populate weight_gradients and bias_gradients\n",
    "        # lists here\n",
    "        weight_gradients = []\n",
    "        bias_gradients = []\n",
    "        \n",
    "        layer_outputs.reverse()\n",
    "        i = 0\n",
    "        for current_output in layer_outputs:\n",
    "            if i == 0:\n",
    "                dc_dz_m =  current_output - targets\n",
    "                bias_gradients.append(np.mean(dc_dz_m, axis=1, keepdims=True)) # averaging because doing batch training with multiple examples instead of just 1\n",
    "                weight_gradients.append(dc_dz_m @ layer_outputs[i+1].transpose())\n",
    "            else:\n",
    "                forward_layer = self.layers[-i]\n",
    "                da_dz = current_output*(1-current_output)\n",
    "                dc_dz_m = (forward_layer.weights.transpose() @ dc_dz_m) * da_dz\n",
    "                bias_gradients.append(np.mean(dc_dz_m, axis=1, keepdims=True)) # averaging because doing batch training with multiple examples instead of just 1\n",
    "                weight_gradients.append(dc_dz_m @ layer_outputs[i+1].transpose())\n",
    "            \n",
    "            if i == len(layer_outputs) - 1 - 1: # index of output of first layer\n",
    "                break\n",
    "            i+=1\n",
    "        \n",
    "        weight_gradients.reverse()\n",
    "        bias_gradients.reverse()\n",
    "\n",
    "        # Perform gradient descent by applying updates\n",
    "        for weight_gradient, bias_gradient, layer in zip(weight_gradients, bias_gradients, self.layers):\n",
    "            layer.weights -= weight_gradient*learning_rate\n",
    "            layer.biases -= bias_gradient*learning_rate\n",
    "\n",
    "    def __call__(self, inputs):\n",
    "        a = inputs\n",
    "        for layer in self.layers:\n",
    "            a = layer(a)\n",
    "        return a\n",
    "\n",
    "def train_mlp(n_iterations, learning_rate):\n",
    "    mlp = SigmoidMLP([2, 2, 1])\n",
    "    inputs = np.array([[0, 1, 0, 1],\n",
    "                       [0, 0, 1, 1]])\n",
    "    targets = np.array([[0, 1, 1, 0]])\n",
    "    for _ in range(int(1e3)):\n",
    "        mlp.train(inputs, targets, learning_rate)\n",
    "    return mlp"
   ]
  },
  {
   "cell_type": "code",
   "execution_count": 33,
   "metadata": {
    "id": "yoAl7lW_WyNg"
   },
   "outputs": [
    {
     "name": "stdout",
     "output_type": "stream",
     "text": [
      "[[0.00284373]]\n",
      "[[0.9976219]]\n",
      "[[0.9933704]]\n",
      "[[0.00182836]]\n"
     ]
    }
   ],
   "source": [
    "# You may need to change the n_iterations and learning_rate values\n",
    "# but these worked for me\n",
    "mlp = train_mlp(10000, 1.)\n",
    "# The following calls should result in (approximately) 0, 1, 1, 0\n",
    "# If the outputs are somewhat close, your training has succeeded!\n",
    "print(mlp(np.array([0, 0]).reshape(-1, 1)))\n",
    "print(mlp(np.array([0, 1]).reshape(-1, 1)))\n",
    "print(mlp(np.array([1, 0]).reshape(-1, 1)))\n",
    "print(mlp(np.array([1, 1]).reshape(-1, 1)))"
   ]
  }
 ],
 "metadata": {
  "colab": {
   "include_colab_link": true,
   "provenance": []
  },
  "kernelspec": {
   "display_name": "Python 3 (ipykernel)",
   "language": "python",
   "name": "python3"
  },
  "language_info": {
   "codemirror_mode": {
    "name": "ipython",
    "version": 3
   },
   "file_extension": ".py",
   "mimetype": "text/x-python",
   "name": "python",
   "nbconvert_exporter": "python",
   "pygments_lexer": "ipython3",
   "version": "3.11.5"
  }
 },
 "nbformat": 4,
 "nbformat_minor": 4
}
